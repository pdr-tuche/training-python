{
  "nbformat": 4,
  "nbformat_minor": 0,
  "metadata": {
    "colab": {
      "name": "covid_JP.ipynb",
      "provenance": [],
      "mount_file_id": "1cQe7HHrgj5cHO8zc11EFwYe1NqahJ8Qq",
      "authorship_tag": "ABX9TyMrv4cOoIK9YCtyvakpdgNa",
      "include_colab_link": true
    },
    "kernelspec": {
      "name": "python3",
      "display_name": "Python 3"
    }
  },
  "cells": [
    {
      "cell_type": "markdown",
      "metadata": {
        "id": "view-in-github",
        "colab_type": "text"
      },
      "source": [
        "<a href=\"https://colab.research.google.com/github/pdr-tuche/training-python/blob/main/covid_JP.ipynb\" target=\"_parent\"><img src=\"https://colab.research.google.com/assets/colab-badge.svg\" alt=\"Open In Colab\"/></a>"
      ]
    },
    {
      "cell_type": "markdown",
      "metadata": {
        "id": "9caT8fl59I-n"
      },
      "source": [
        "#Casos covid em joao pessoa\n",
        "\n",
        "\n",
        "\n",
        "\n",
        "####informaçoes dos nove ultimos boletins tiradas do site:\n",
        "https://paraiba.pb.gov.br/diretas/saude/coronavirus/profissionais-de-saude/boletins-e-notas-tecnicas\n",
        "\n",
        "\n",
        "---\n",
        "dia de pesquisa: 22 /11 /2020\n",
        "\n",
        "\n",
        "\n"
      ]
    },
    {
      "cell_type": "code",
      "metadata": {
        "id": "_bGGxMHM46uV"
      },
      "source": [
        "import pandas as pd\n",
        "import matplotlib.pyplot as plt\n",
        "import numpy as np\n"
      ],
      "execution_count": 1,
      "outputs": []
    },
    {
      "cell_type": "code",
      "metadata": {
        "colab": {
          "base_uri": "https://localhost:8080/",
          "height": 359
        },
        "id": "JFodtplc9UTL",
        "outputId": "0acc2c5f-59c0-4d84-89b6-3c3e2c81b6db"
      },
      "source": [
        "data = pd.read_csv(\"/content/drive/MyDrive/covid_jp.csv\",encoding= \"UTF-8\", sep=';')\n",
        "data"
      ],
      "execution_count": 2,
      "outputs": [
        {
          "output_type": "execute_result",
          "data": {
            "text/html": [
              "<div>\n",
              "<style scoped>\n",
              "    .dataframe tbody tr th:only-of-type {\n",
              "        vertical-align: middle;\n",
              "    }\n",
              "\n",
              "    .dataframe tbody tr th {\n",
              "        vertical-align: top;\n",
              "    }\n",
              "\n",
              "    .dataframe thead th {\n",
              "        text-align: right;\n",
              "    }\n",
              "</style>\n",
              "<table border=\"1\" class=\"dataframe\">\n",
              "  <thead>\n",
              "    <tr style=\"text-align: right;\">\n",
              "      <th></th>\n",
              "      <th>MUNICÍPIO DE RESIDÊNCIA</th>\n",
              "      <th>NO DE CASOS</th>\n",
              "      <th>NO DE ÓBITOS</th>\n",
              "      <th>RECUPERADOS</th>\n",
              "      <th>EM ABERTO</th>\n",
              "    </tr>\n",
              "  </thead>\n",
              "  <tbody>\n",
              "    <tr>\n",
              "      <th>0</th>\n",
              "      <td>João Pessoa</td>\n",
              "      <td>34660</td>\n",
              "      <td>1032</td>\n",
              "      <td>25062.0</td>\n",
              "      <td>8566.0</td>\n",
              "    </tr>\n",
              "    <tr>\n",
              "      <th>1</th>\n",
              "      <td>João Pessoa</td>\n",
              "      <td>32651</td>\n",
              "      <td>991</td>\n",
              "      <td>24045.0</td>\n",
              "      <td>7615.0</td>\n",
              "    </tr>\n",
              "    <tr>\n",
              "      <th>2</th>\n",
              "      <td>João Pessoa</td>\n",
              "      <td>31421</td>\n",
              "      <td>951</td>\n",
              "      <td>23157.0</td>\n",
              "      <td>7313.0</td>\n",
              "    </tr>\n",
              "    <tr>\n",
              "      <th>3</th>\n",
              "      <td>João Pessoa</td>\n",
              "      <td>29959</td>\n",
              "      <td>906</td>\n",
              "      <td>21894.0</td>\n",
              "      <td>7159.0</td>\n",
              "    </tr>\n",
              "    <tr>\n",
              "      <th>4</th>\n",
              "      <td>João Pessoa</td>\n",
              "      <td>29000</td>\n",
              "      <td>868</td>\n",
              "      <td>19575.0</td>\n",
              "      <td>8557.0</td>\n",
              "    </tr>\n",
              "    <tr>\n",
              "      <th>5</th>\n",
              "      <td>João Pessoa</td>\n",
              "      <td>27542</td>\n",
              "      <td>846</td>\n",
              "      <td>18156.0</td>\n",
              "      <td>8530.0</td>\n",
              "    </tr>\n",
              "    <tr>\n",
              "      <th>6</th>\n",
              "      <td>João Pessoa</td>\n",
              "      <td>26351</td>\n",
              "      <td>809</td>\n",
              "      <td>NaN</td>\n",
              "      <td>NaN</td>\n",
              "    </tr>\n",
              "    <tr>\n",
              "      <th>7</th>\n",
              "      <td>João Pessoa</td>\n",
              "      <td>25819</td>\n",
              "      <td>800</td>\n",
              "      <td>NaN</td>\n",
              "      <td>NaN</td>\n",
              "    </tr>\n",
              "    <tr>\n",
              "      <th>8</th>\n",
              "      <td>João Pessoa</td>\n",
              "      <td>25589</td>\n",
              "      <td>783</td>\n",
              "      <td>NaN</td>\n",
              "      <td>NaN</td>\n",
              "    </tr>\n",
              "    <tr>\n",
              "      <th>9</th>\n",
              "      <td>João Pessoa</td>\n",
              "      <td>25053</td>\n",
              "      <td>774</td>\n",
              "      <td>NaN</td>\n",
              "      <td>NaN</td>\n",
              "    </tr>\n",
              "  </tbody>\n",
              "</table>\n",
              "</div>"
            ],
            "text/plain": [
              "  MUNICÍPIO DE RESIDÊNCIA  NO DE CASOS  NO DE ÓBITOS  RECUPERADOS  EM ABERTO\n",
              "0             João Pessoa        34660          1032      25062.0     8566.0\n",
              "1             João Pessoa        32651           991      24045.0     7615.0\n",
              "2             João Pessoa        31421           951      23157.0     7313.0\n",
              "3             João Pessoa        29959           906      21894.0     7159.0\n",
              "4             João Pessoa        29000           868      19575.0     8557.0\n",
              "5             João Pessoa        27542           846      18156.0     8530.0\n",
              "6             João Pessoa        26351           809          NaN        NaN\n",
              "7             João Pessoa        25819           800          NaN        NaN\n",
              "8             João Pessoa        25589           783          NaN        NaN\n",
              "9             João Pessoa        25053           774          NaN        NaN"
            ]
          },
          "metadata": {
            "tags": []
          },
          "execution_count": 2
        }
      ]
    },
    {
      "cell_type": "code",
      "metadata": {
        "colab": {
          "base_uri": "https://localhost:8080/",
          "height": 282
        },
        "id": "KkCihAyn_vjL",
        "outputId": "06600cd2-92b1-4c3b-8a7c-af3cd3e8c63c"
      },
      "source": [
        "data['EM ABERTO'].fillna(0,inplace =True)\n",
        "ncasos = data['NO DE CASOS']\n",
        "nemabertos = data['EM ABERTO']\n",
        "nobitos = data['NO DE ÓBITOS']\n",
        "nrecuperados = data['RECUPERADOS']\n",
        "boletins_meses=[8,8,8,8,9,9,10,10,11,11]\n",
        "plt.plot(boletins_meses,ncasos,'k-')\n",
        "plt.plot(boletins_meses,nobitos,'r-')\n",
        "plt.plot(boletins_meses,nemabertos,'b-')\n",
        "plt.plot(boletins_meses,nrecuperados,'g-')"
      ],
      "execution_count": 4,
      "outputs": [
        {
          "output_type": "execute_result",
          "data": {
            "text/plain": [
              "[<matplotlib.lines.Line2D at 0x7f0fea9ef908>]"
            ]
          },
          "metadata": {
            "tags": []
          },
          "execution_count": 4
        },
        {
          "output_type": "display_data",
          "data": {
            "image/png": "[encoded data removed]",
            "text/plain": [
              "<Figure size 432x288 with 1 Axes>"
            ]
          },
          "metadata": {
            "tags": [],
            "needs_background": "light"
          }
        }
      ]
    },
    {
      "cell_type": "markdown",
      "metadata": {
        "id": "YUhILP0iG-rY"
      },
      "source": [
        "em preto, numero de casos. Em verde, numero de recuperados. Em azul, casos em aberto. Em vermelho, numero de obitos"
      ]
    },
    {
      "cell_type": "markdown",
      "metadata": {
        "id": "_lrwRwrfb5fq"
      },
      "source": [
        "## Analisando apenas o mes de Agosto o qual possui 4 boletins"
      ]
    },
    {
      "cell_type": "code",
      "metadata": {
        "colab": {
          "base_uri": "https://localhost:8080/",
          "height": 173
        },
        "id": "naiu4UkoHQpo",
        "outputId": "03aa5907-1e0c-4b9b-f806-192381c34bbf"
      },
      "source": [
        "dfmesAgosto = data.loc[0:3]\n",
        "dfmesAgosto"
      ],
      "execution_count": 14,
      "outputs": [
        {
          "output_type": "execute_result",
          "data": {
            "text/html": [
              "<div>\n",
              "<style scoped>\n",
              "    .dataframe tbody tr th:only-of-type {\n",
              "        vertical-align: middle;\n",
              "    }\n",
              "\n",
              "    .dataframe tbody tr th {\n",
              "        vertical-align: top;\n",
              "    }\n",
              "\n",
              "    .dataframe thead th {\n",
              "        text-align: right;\n",
              "    }\n",
              "</style>\n",
              "<table border=\"1\" class=\"dataframe\">\n",
              "  <thead>\n",
              "    <tr style=\"text-align: right;\">\n",
              "      <th></th>\n",
              "      <th>MUNICÍPIO DE RESIDÊNCIA</th>\n",
              "      <th>NO DE CASOS</th>\n",
              "      <th>NO DE ÓBITOS</th>\n",
              "      <th>RECUPERADOS</th>\n",
              "      <th>EM ABERTO</th>\n",
              "    </tr>\n",
              "  </thead>\n",
              "  <tbody>\n",
              "    <tr>\n",
              "      <th>0</th>\n",
              "      <td>João Pessoa</td>\n",
              "      <td>34660</td>\n",
              "      <td>1032</td>\n",
              "      <td>25062.0</td>\n",
              "      <td>8566.0</td>\n",
              "    </tr>\n",
              "    <tr>\n",
              "      <th>1</th>\n",
              "      <td>João Pessoa</td>\n",
              "      <td>32651</td>\n",
              "      <td>991</td>\n",
              "      <td>24045.0</td>\n",
              "      <td>7615.0</td>\n",
              "    </tr>\n",
              "    <tr>\n",
              "      <th>2</th>\n",
              "      <td>João Pessoa</td>\n",
              "      <td>31421</td>\n",
              "      <td>951</td>\n",
              "      <td>23157.0</td>\n",
              "      <td>7313.0</td>\n",
              "    </tr>\n",
              "    <tr>\n",
              "      <th>3</th>\n",
              "      <td>João Pessoa</td>\n",
              "      <td>29959</td>\n",
              "      <td>906</td>\n",
              "      <td>21894.0</td>\n",
              "      <td>7159.0</td>\n",
              "    </tr>\n",
              "  </tbody>\n",
              "</table>\n",
              "</div>"
            ],
            "text/plain": [
              "  MUNICÍPIO DE RESIDÊNCIA  NO DE CASOS  NO DE ÓBITOS  RECUPERADOS  EM ABERTO\n",
              "0             João Pessoa        34660          1032      25062.0     8566.0\n",
              "1             João Pessoa        32651           991      24045.0     7615.0\n",
              "2             João Pessoa        31421           951      23157.0     7313.0\n",
              "3             João Pessoa        29959           906      21894.0     7159.0"
            ]
          },
          "metadata": {
            "tags": []
          },
          "execution_count": 14
        }
      ]
    },
    {
      "cell_type": "code",
      "metadata": {
        "colab": {
          "base_uri": "https://localhost:8080/",
          "height": 286
        },
        "id": "Ur7AsQOBHsff",
        "outputId": "7fc4a3f2-84a5-4e75-84c4-11b564dd5493"
      },
      "source": [
        "ncasos = dfmesAgosto['NO DE CASOS']\n",
        "nemabertos = dfmesAgosto['EM ABERTO']\n",
        "nobitos = dfmesAgosto['NO DE ÓBITOS']\n",
        "nrecuperados = dfmesAgosto['RECUPERADOS']\n",
        "\n",
        "boletins =pd.Series(4)\n",
        "for i in range(4):\n",
        "  temp = i\n",
        "  boletins[i] = i+1\n",
        "\n",
        "plt.ylim(500, 40000) \n",
        "boletins\n",
        "plt.plot(boletins,ncasos,'k-')\n",
        "plt.plot(boletins,nrecuperados,'g-')\n",
        "plt.plot(boletins,nemabertos,'b-')\n",
        "plt.plot(boletins,nobitos,'r-')\n"
      ],
      "execution_count": 16,
      "outputs": [
        {
          "output_type": "execute_result",
          "data": {
            "text/plain": [
              "[<matplotlib.lines.Line2D at 0x7f0fe218fe80>]"
            ]
          },
          "metadata": {
            "tags": []
          },
          "execution_count": 16
        },
        {
          "output_type": "display_data",
          "data": {
            "image/png": "[encoded data removed]",
            "text/plain": [
              "<Figure size 432x288 with 1 Axes>"
            ]
          },
          "metadata": {
            "tags": [],
            "needs_background": "light"
          }
        }
      ]
    },
    {
      "cell_type": "code",
      "metadata": {
        "colab": {
          "base_uri": "https://localhost:8080/",
          "height": 282
        },
        "id": "al0mCjxOW63j",
        "outputId": "edf9c5be-af9e-4bf2-8b57-8ebaaa92a489"
      },
      "source": [
        "#ampliando o a escala de mortes\n",
        "plt.ylim(500, 1032) \n",
        "plt.plot(boletins,nobitos,'r-')\n",
        "print('media de numero de obitos nos boletins = ',nobitos.mean())"
      ],
      "execution_count": 17,
      "outputs": [
        {
          "output_type": "stream",
          "text": [
            "media de numero de obitos nos boletins =  970.0\n"
          ],
          "name": "stdout"
        },
        {
          "output_type": "display_data",
          "data": {
            "image/png": "[encoded data removed]",
            "text/plain": [
              "<Figure size 432x288 with 1 Axes>"
            ]
          },
          "metadata": {
            "tags": [],
            "needs_background": "light"
          }
        }
      ]
    },
    {
      "cell_type": "markdown",
      "metadata": {
        "id": "YcShzhk2cYji"
      },
      "source": [
        "media de mortes de 970 no mes de Agosto."
      ]
    },
    {
      "cell_type": "code",
      "metadata": {
        "colab": {
          "base_uri": "https://localhost:8080/",
          "height": 282
        },
        "id": "XZfyTFTMeT1x",
        "outputId": "6a58a9b9-6dfc-41de-f22e-9616cead17b4"
      },
      "source": [
        "#ampliando a escala de contaminados\n",
        "plt.ylim(20000, 35000\t) \n",
        "plt.plot(boletins,ncasos,'k-')\n",
        "print('media de numero de casos nos boletins = ',ncasos.mean())"
      ],
      "execution_count": 18,
      "outputs": [
        {
          "output_type": "stream",
          "text": [
            "media de numero de casos nos boletins =  32172.75\n"
          ],
          "name": "stdout"
        },
        {
          "output_type": "display_data",
          "data": {
            "image/png": "[encoded data removed]",
            "text/plain": [
              "<Figure size 432x288 with 1 Axes>"
            ]
          },
          "metadata": {
            "tags": [],
            "needs_background": "light"
          }
        }
      ]
    },
    {
      "cell_type": "markdown",
      "metadata": {
        "id": "XgdUJ8r0fcAZ"
      },
      "source": [
        "##Analisando o mes de Setembro\n"
      ]
    },
    {
      "cell_type": "code",
      "metadata": {
        "colab": {
          "base_uri": "https://localhost:8080/",
          "height": 111
        },
        "id": "jpXxkeGPfpBA",
        "outputId": "0a32947d-2574-4ff0-992f-a73556a87dde"
      },
      "source": [
        "dfmesSetembro = data.loc[4:5]\n",
        "dfmesSetembro"
      ],
      "execution_count": 19,
      "outputs": [
        {
          "output_type": "execute_result",
          "data": {
            "text/html": [
              "<div>\n",
              "<style scoped>\n",
              "    .dataframe tbody tr th:only-of-type {\n",
              "        vertical-align: middle;\n",
              "    }\n",
              "\n",
              "    .dataframe tbody tr th {\n",
              "        vertical-align: top;\n",
              "    }\n",
              "\n",
              "    .dataframe thead th {\n",
              "        text-align: right;\n",
              "    }\n",
              "</style>\n",
              "<table border=\"1\" class=\"dataframe\">\n",
              "  <thead>\n",
              "    <tr style=\"text-align: right;\">\n",
              "      <th></th>\n",
              "      <th>MUNICÍPIO DE RESIDÊNCIA</th>\n",
              "      <th>NO DE CASOS</th>\n",
              "      <th>NO DE ÓBITOS</th>\n",
              "      <th>RECUPERADOS</th>\n",
              "      <th>EM ABERTO</th>\n",
              "    </tr>\n",
              "  </thead>\n",
              "  <tbody>\n",
              "    <tr>\n",
              "      <th>4</th>\n",
              "      <td>João Pessoa</td>\n",
              "      <td>29000</td>\n",
              "      <td>868</td>\n",
              "      <td>19575.0</td>\n",
              "      <td>8557.0</td>\n",
              "    </tr>\n",
              "    <tr>\n",
              "      <th>5</th>\n",
              "      <td>João Pessoa</td>\n",
              "      <td>27542</td>\n",
              "      <td>846</td>\n",
              "      <td>18156.0</td>\n",
              "      <td>8530.0</td>\n",
              "    </tr>\n",
              "  </tbody>\n",
              "</table>\n",
              "</div>"
            ],
            "text/plain": [
              "  MUNICÍPIO DE RESIDÊNCIA  NO DE CASOS  NO DE ÓBITOS  RECUPERADOS  EM ABERTO\n",
              "4             João Pessoa        29000           868      19575.0     8557.0\n",
              "5             João Pessoa        27542           846      18156.0     8530.0"
            ]
          },
          "metadata": {
            "tags": []
          },
          "execution_count": 19
        }
      ]
    },
    {
      "cell_type": "code",
      "metadata": {
        "colab": {
          "base_uri": "https://localhost:8080/",
          "height": 286
        },
        "id": "yz_xH4ppgBm4",
        "outputId": "b0015c10-b5c8-46bf-f9d3-99607b8db815"
      },
      "source": [
        "ncasos = dfmesSetembro['NO DE CASOS']\n",
        "nemabertos = dfmesSetembro['EM ABERTO']\n",
        "nobitos = dfmesSetembro['NO DE ÓBITOS']\n",
        "nrecuperados = dfmesSetembro['RECUPERADOS']\n",
        "\n",
        "boletins =pd.Series(2)\n",
        "for i in range(2):\n",
        "  temp = i\n",
        "  boletins[i] = i+1\n",
        "\n",
        "plt.ylim(0, 40000) \n",
        "\n",
        "plt.plot(boletins,ncasos,'k-')\n",
        "plt.plot(boletins,nrecuperados,'g-')\n",
        "plt.plot(boletins,nemabertos,'b-')\n",
        "plt.plot(boletins,nobitos,'r-')"
      ],
      "execution_count": 20,
      "outputs": [
        {
          "output_type": "execute_result",
          "data": {
            "text/plain": [
              "[<matplotlib.lines.Line2D at 0x7f0fe2044908>]"
            ]
          },
          "metadata": {
            "tags": []
          },
          "execution_count": 20
        },
        {
          "output_type": "display_data",
          "data": {
            "image/png": "[encoded data removed]",
            "text/plain": [
              "<Figure size 432x288 with 1 Axes>"
            ]
          },
          "metadata": {
            "tags": [],
            "needs_background": "light"
          }
        }
      ]
    },
    {
      "cell_type": "code",
      "metadata": {
        "colab": {
          "base_uri": "https://localhost:8080/",
          "height": 282
        },
        "id": "upou8zhfge44",
        "outputId": "cd70d438-868b-4dd4-c463-1eee1324402a"
      },
      "source": [
        "#ampliando o a escala de mortes\n",
        "plt.ylim(0, 868) \n",
        "plt.plot(boletins,nobitos,'r-')\n",
        "print('media de numero de obitos nos boletins = ',nobitos.mean())"
      ],
      "execution_count": 21,
      "outputs": [
        {
          "output_type": "stream",
          "text": [
            "media de numero de obitos nos boletins =  857.0\n"
          ],
          "name": "stdout"
        },
        {
          "output_type": "display_data",
          "data": {
            "image/png": "[encoded data removed]",
            "text/plain": [
              "<Figure size 432x288 with 1 Axes>"
            ]
          },
          "metadata": {
            "tags": [],
            "needs_background": "light"
          }
        }
      ]
    },
    {
      "cell_type": "code",
      "metadata": {
        "colab": {
          "base_uri": "https://localhost:8080/",
          "height": 282
        },
        "id": "Zj6ailC9hEnx",
        "outputId": "4b0f4f47-7008-4ce4-cd40-cdb4f38f29a4"
      },
      "source": [
        "#ampliando a escala de contaminados\n",
        "plt.ylim(0, 29000\t) \n",
        "plt.plot(boletins,ncasos,'k-')\n",
        "print('media de numero de casos nos boletins = ',ncasos.mean())"
      ],
      "execution_count": 22,
      "outputs": [
        {
          "output_type": "stream",
          "text": [
            "media de numero de casos nos boletins =  28271.0\n"
          ],
          "name": "stdout"
        },
        {
          "output_type": "display_data",
          "data": {
            "image/png": "[encoded data removed]",
            "text/plain": [
              "<Figure size 432x288 with 1 Axes>"
            ]
          },
          "metadata": {
            "tags": [],
            "needs_background": "light"
          }
        }
      ]
    }
  ]
}