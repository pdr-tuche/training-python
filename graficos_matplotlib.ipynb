{
  "nbformat": 4,
  "nbformat_minor": 0,
  "metadata": {
    "colab": {
      "name": "graficos_matplotlib.ipynb",
      "provenance": [],
      "mount_file_id": "1x2JaXoo9gCOlaBUdTCgMXJ1-4rCWcnwF",
      "authorship_tag": "ABX9TyMcbIvm9xBzTGY9HNw91pcU",
      "include_colab_link": true
    },
    "kernelspec": {
      "name": "python3",
      "display_name": "Python 3"
    }
  },
  "cells": [
    {
      "cell_type": "markdown",
      "metadata": {
        "id": "view-in-github",
        "colab_type": "text"
      },
      "source": [
        "<a href=\"https://colab.research.google.com/github/pdr-tuche/training-python/blob/main/graficos_matplotlib.ipynb\" target=\"_parent\"><img src=\"https://colab.research.google.com/assets/colab-badge.svg\" alt=\"Open In Colab\"/></a>"
      ]
    },
    {
      "cell_type": "markdown",
      "metadata": {
        "id": "rhqMifUghoBa"
      },
      "source": [
        "# gerando graficos\n",
        "dia de pesquisa: 20/11/2020"
      ]
    },
    {
      "cell_type": "code",
      "metadata": {
        "id": "dGH23o_bZaoe"
      },
      "source": [
        "import matplotlib.pyplot as plt\n",
        "import pandas as pd"
      ],
      "execution_count": 19,
      "outputs": []
    },
    {
      "cell_type": "code",
      "metadata": {
        "id": "4KGq78AwZxSE"
      },
      "source": [
        "x = [1,2,3,4,5,6,7,8,9,10]\n",
        "y = [1,2,3,4,5,6,7,8,9,10]"
      ],
      "execution_count": 2,
      "outputs": []
    },
    {
      "cell_type": "code",
      "metadata": {
        "colab": {
          "base_uri": "https://localhost:8080/",
          "height": 265
        },
        "id": "7-MCVKvtaFRb",
        "outputId": "1ceaf3cd-0c90-425d-ad28-18b59ffd5654"
      },
      "source": [
        "plt.scatter(x,y)\n",
        "plt.show()"
      ],
      "execution_count": 4,
      "outputs": [
        {
          "output_type": "display_data",
          "data": {
            "image/png": "[encoded data removed]",
            "text/plain": [
              "<Figure size 432x288 with 1 Axes>"
            ]
          },
          "metadata": {
            "tags": [],
            "needs_background": "light"
          }
        }
      ]
    },
    {
      "cell_type": "markdown",
      "metadata": {
        "id": "EgXhKJRLf4na"
      },
      "source": [
        "#fazendo relação de peso e altura de atletas masculinos e femininos"
      ]
    },
    {
      "cell_type": "code",
      "metadata": {
        "id": "hroTTFzAa2ez"
      },
      "source": [
        "data = pd.read_csv(\"/content/drive/MyDrive/athlete_events.csv\",encoding= \"ISO-8859-1\", sep=',')\n",
        "masculinos = data.loc[data['Sex']=='M'] #criando dataset com todos os atletas masculinos"
      ],
      "execution_count": 23,
      "outputs": []
    },
    {
      "cell_type": "code",
      "metadata": {
        "colab": {
          "base_uri": "https://localhost:8080/",
          "height": 282
        },
        "id": "Ma3ESQmzgmD6",
        "outputId": "e33eb044-2301-4d19-fa05-741b2e72b837"
      },
      "source": [
        "altura = masculinos['Height'] #recebendo toda coluna altura\n",
        "peso = masculinos['Weight'] #recebendo toda coluna peso\n",
        "plt.scatter(altura,peso)"
      ],
      "execution_count": 24,
      "outputs": [
        {
          "output_type": "execute_result",
          "data": {
            "text/plain": [
              "<matplotlib.collections.PathCollection at 0x7f1a4d9a64a8>"
            ]
          },
          "metadata": {
            "tags": []
          },
          "execution_count": 24
        },
        {
          "output_type": "display_data",
          "data": {
            "image/png": "[encoded data removed]",
            "text/plain": [
              "<Figure size 432x288 with 1 Axes>"
            ]
          },
          "metadata": {
            "tags": [],
            "needs_background": "light"
          }
        }
      ]
    },
    {
      "cell_type": "markdown",
      "metadata": {
        "id": "pDzmIWjzhedo"
      },
      "source": [
        "a figura mostra que quanto maior a altura, maior o peso do atleta"
      ]
    },
    {
      "cell_type": "code",
      "metadata": {
        "colab": {
          "base_uri": "https://localhost:8080/",
          "height": 282
        },
        "id": "Ndc8RaHcpzJm",
        "outputId": "ba9ce661-bcc4-49d5-cb92-596b2d97e69c"
      },
      "source": [
        "feminino = data.loc[data['Sex']=='F']\n",
        "altura = feminino['Height'] #recebendo toda coluna altura\n",
        "peso = feminino['Weight'] #recebendo toda coluna peso\n",
        "plt.scatter(altura,peso)"
      ],
      "execution_count": 39,
      "outputs": [
        {
          "output_type": "execute_result",
          "data": {
            "text/plain": [
              "<matplotlib.collections.PathCollection at 0x7f1a4d27d4e0>"
            ]
          },
          "metadata": {
            "tags": []
          },
          "execution_count": 39
        },
        {
          "output_type": "display_data",
          "data": {
            "image/png": "[encoded data removed]",
            "text/plain": [
              "<Figure size 432x288 with 1 Axes>"
            ]
          },
          "metadata": {
            "tags": [],
            "needs_background": "light"
          }
        }
      ]
    },
    {
      "cell_type": "markdown",
      "metadata": {
        "id": "D6abIIIPqFj3"
      },
      "source": [
        "a figura também mostra que quanto maior a altura, maior o peso do atleta. Entretanto, em menor densidade pois o numero de atletas mulheres é inferior aos atletas homens"
      ]
    },
    {
      "cell_type": "code",
      "metadata": {
        "colab": {
          "base_uri": "https://localhost:8080/"
        },
        "id": "hMhgxGItqUVu",
        "outputId": "50c3a062-915e-46a5-ee0e-b8995b5f367b"
      },
      "source": [
        "quantidadeF = feminino['Sex']\n",
        "quantidadeM = masculinos['Sex']\n",
        "print(\"quantidade de mulheres =\",quantidadeF.count(),\"quantidade de homens =\",quantidadeM.count())"
      ],
      "execution_count": 52,
      "outputs": [
        {
          "output_type": "stream",
          "text": [
            "quantidade de mulheres = 74522 quantidade de homens = 196594\n"
          ],
          "name": "stdout"
        }
      ]
    },
    {
      "cell_type": "markdown",
      "metadata": {
        "id": "S24OtfF9lRvg"
      },
      "source": [
        "# funções importantes"
      ]
    },
    {
      "cell_type": "code",
      "metadata": {
        "colab": {
          "base_uri": "https://localhost:8080/"
        },
        "id": "lq_EoQ0Shk_A",
        "outputId": "97ab955f-5b94-407b-b045-1423011316cf"
      },
      "source": [
        "data2 = data.dropna() #excluir dados faltantes NaN\n",
        "#mostrando a diferença de tamanho dos dois dataframes\n",
        "print(data2.shape)\n",
        "print(data.shape)"
      ],
      "execution_count": 27,
      "outputs": [
        {
          "output_type": "stream",
          "text": [
            "(30181, 15)\n",
            "(271116, 15)\n"
          ],
          "name": "stdout"
        }
      ]
    },
    {
      "cell_type": "code",
      "metadata": {
        "colab": {
          "base_uri": "https://localhost:8080/"
        },
        "id": "85mqGy4JkbzQ",
        "outputId": "4151e0b6-98ff-47e9-a322-93009a124051"
      },
      "source": [
        "#vendo quantos dados estao indefinidos\n",
        "faltantes= data.isnull().sum() #vendo a quantidade de dados faltantes, isnull retorna true se faltar dados e false se encontrar algo\n",
        "faltantes"
      ],
      "execution_count": 29,
      "outputs": [
        {
          "output_type": "execute_result",
          "data": {
            "text/plain": [
              "ID             0\n",
              "Name           0\n",
              "Sex            0\n",
              "Age         9474\n",
              "Height     60171\n",
              "Weight     62875\n",
              "Team           0\n",
              "NOC            0\n",
              "Games          0\n",
              "Year           0\n",
              "Season         0\n",
              "City           0\n",
              "Sport          0\n",
              "Event          0\n",
              "Medal     231333\n",
              "dtype: int64"
            ]
          },
          "metadata": {
            "tags": []
          },
          "execution_count": 29
        }
      ]
    },
    {
      "cell_type": "code",
      "metadata": {
        "colab": {
          "base_uri": "https://localhost:8080/"
        },
        "id": "z5xTL3Xjk8ao",
        "outputId": "af595366-9d77-4288-fe43-c6e18995c006"
      },
      "source": [
        "faltantes_percentual = (data.isnull().sum() / len(data['ID']))*100 #quantidade de dados faltantes dividido pela quantidade de dados = percentual de dados faltantes\n",
        "faltantes_percentual"
      ],
      "execution_count": 34,
      "outputs": [
        {
          "output_type": "execute_result",
          "data": {
            "text/plain": [
              "ID         0.000000\n",
              "Name       0.000000\n",
              "Sex        0.000000\n",
              "Age        3.494445\n",
              "Height    22.193821\n",
              "Weight    23.191180\n",
              "Team       0.000000\n",
              "NOC        0.000000\n",
              "Games      0.000000\n",
              "Year       0.000000\n",
              "Season     0.000000\n",
              "City       0.000000\n",
              "Sport      0.000000\n",
              "Event      0.000000\n",
              "Medal     85.326207\n",
              "dtype: float64"
            ]
          },
          "metadata": {
            "tags": []
          },
          "execution_count": 34
        }
      ]
    },
    {
      "cell_type": "code",
      "metadata": {
        "id": "1J5ghXmPnUTo"
      },
      "source": [
        "#substituindo dados NaN pela media de cada coluna (é uma boa pratica em Machine Learning)\n",
        "data['Medal'].fillna('Nenhuma',inplace =True)\n",
        "data['Age'].fillna(data['Age'].mean(),inplace=True)\n",
        "data['Height'].fillna(data['Height'].mean(),inplace=True)\n",
        "data['Weight'].fillna(data['Weight'].mean(),inplace=True)"
      ],
      "execution_count": 35,
      "outputs": []
    },
    {
      "cell_type": "code",
      "metadata": {
        "colab": {
          "base_uri": "https://localhost:8080/"
        },
        "id": "T_KpsgHAoCHA",
        "outputId": "98aece4c-429a-4e69-8412-a82157a68f43"
      },
      "source": [
        "faltantes_percentual = (data.isnull().sum() / len(data['ID']))*100 \n",
        "faltantes_percentual\n",
        "# nota-se que depois da celula anterior, os dados faltantes sumiram pois foram preenchidos pela funcao fillna"
      ],
      "execution_count": 38,
      "outputs": [
        {
          "output_type": "execute_result",
          "data": {
            "text/plain": [
              "ID        0.0\n",
              "Name      0.0\n",
              "Sex       0.0\n",
              "Age       0.0\n",
              "Height    0.0\n",
              "Weight    0.0\n",
              "Team      0.0\n",
              "NOC       0.0\n",
              "Games     0.0\n",
              "Year      0.0\n",
              "Season    0.0\n",
              "City      0.0\n",
              "Sport     0.0\n",
              "Event     0.0\n",
              "Medal     0.0\n",
              "dtype: float64"
            ]
          },
          "metadata": {
            "tags": []
          },
          "execution_count": 38
        }
      ]
    }
  ]
}