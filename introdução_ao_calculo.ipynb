{
  "nbformat": 4,
  "nbformat_minor": 0,
  "metadata": {
    "colab": {
      "name": "introdução ao calculo.ipynb",
      "provenance": [],
      "toc_visible": true,
      "authorship_tag": "ABX9TyOLDa0Jd7KNL3adCSm4bOcy",
      "include_colab_link": true
    },
    "kernelspec": {
      "name": "python3",
      "display_name": "Python 3"
    }
  },
  "cells": [
    {
      "cell_type": "markdown",
      "metadata": {
        "id": "view-in-github",
        "colab_type": "text"
      },
      "source": [
        "<a href=\"https://colab.research.google.com/github/pdr-tuche/training-python/blob/main/introdu%C3%A7%C3%A3o_ao_calculo.ipynb\" target=\"_parent\"><img src=\"https://colab.research.google.com/assets/colab-badge.svg\" alt=\"Open In Colab\"/></a>"
      ]
    },
    {
      "cell_type": "markdown",
      "metadata": {
        "id": "r9YaExZyn7JR"
      },
      "source": [
        "# introdução ao calculo com sympy\n"
      ]
    },
    {
      "cell_type": "markdown",
      "metadata": {
        "id": "2yTRQM_Jp4nr"
      },
      "source": [
        "### resolvendo integrais e derivadas\n"
      ]
    },
    {
      "cell_type": "code",
      "metadata": {
        "id": "8dANg2DRn3hw"
      },
      "source": [
        "from sympy import *"
      ],
      "execution_count": 2,
      "outputs": []
    },
    {
      "cell_type": "code",
      "metadata": {
        "id": "ziqU3snKoMJa"
      },
      "source": [
        "x = Symbol('x') ### definindo x como um simbolo, para fazer manipulaçoes simbolicas ... \n",
        "#(oq seria fazer manipulações simbolicas? como é uma manipulação nao simbolica?)"
      ],
      "execution_count": 4,
      "outputs": []
    },
    {
      "cell_type": "code",
      "metadata": {
        "id": "BJSmVlYjoW_E"
      },
      "source": [
        "init_printing(pretty_print= true) #codigo pra mostrar de forma matematica"
      ],
      "execution_count": 3,
      "outputs": []
    },
    {
      "cell_type": "code",
      "metadata": {
        "id": "iZKkR3BMon-t",
        "outputId": "2d21609a-c81d-4c78-d352-c16f63f5d9b0",
        "colab": {
          "base_uri": "https://localhost:8080/",
          "height": 37
        }
      },
      "source": [
        "x**2 + sin(x)"
      ],
      "execution_count": 5,
      "outputs": [
        {
          "output_type": "execute_result",
          "data": {
            "image/png": "[encoded data removed]",
            "text/latex": "$$x^{2} + \\sin{\\left (x \\right )}$$",
            "text/plain": [
              " 2         \n",
              "x  + sin(x)"
            ]
          },
          "metadata": {
            "tags": []
          },
          "execution_count": 5
        }
      ]
    },
    {
      "cell_type": "code",
      "metadata": {
        "id": "EwXpjI54qnk9",
        "outputId": "59e82031-5873-4035-cd2f-3d0d1edb206b",
        "colab": {
          "base_uri": "https://localhost:8080/",
          "height": 38
        }
      },
      "source": [
        "Derivative(x**2 + sin(x)) # ver a derivada antes de calcular"
      ],
      "execution_count": 14,
      "outputs": [
        {
          "output_type": "execute_result",
          "data": {
            "image/png": "[encoded data removed]",
            "text/latex": "$$\\frac{d}{d x}\\left(x^{2} + \\sin{\\left (x \\right )}\\right)$$",
            "text/plain": [
              "d ⎛ 2         ⎞\n",
              "──⎝x  + sin(x)⎠\n",
              "dx             "
            ]
          },
          "metadata": {
            "tags": []
          },
          "execution_count": 14
        }
      ]
    },
    {
      "cell_type": "code",
      "metadata": {
        "id": "7ZTLBrlSo0jX",
        "outputId": "c81f67ac-0e3d-46e6-bd84-e5285dc73c0f",
        "colab": {
          "base_uri": "https://localhost:8080/",
          "height": 37
        }
      },
      "source": [
        "(x**2 + sin(x)).diff(x) # calculando a derivada primeira da expressao"
      ],
      "execution_count": 12,
      "outputs": [
        {
          "output_type": "execute_result",
          "data": {
            "image/png": "[encoded data removed]",
            "text/latex": "$$2 x + \\cos{\\left (x \\right )}$$",
            "text/plain": [
              "2⋅x + cos(x)"
            ]
          },
          "metadata": {
            "tags": []
          },
          "execution_count": 12
        }
      ]
    },
    {
      "cell_type": "code",
      "metadata": {
        "id": "QytZ20kypq_6",
        "outputId": "1265dd3c-f0a0-40c1-dac3-5b4f87ef7e91",
        "colab": {
          "base_uri": "https://localhost:8080/",
          "height": 37
        }
      },
      "source": [
        "(x**2 + sin(x)).diff(x,2) #calculando a derivada segunda"
      ],
      "execution_count": 13,
      "outputs": [
        {
          "output_type": "execute_result",
          "data": {
            "image/png": "[encoded data removed]",
            "text/latex": "$$- \\sin{\\left (x \\right )} + 2$$",
            "text/plain": [
              "-sin(x) + 2"
            ]
          },
          "metadata": {
            "tags": []
          },
          "execution_count": 13
        }
      ]
    },
    {
      "cell_type": "markdown",
      "metadata": {
        "id": "w4EVpXiorHWK"
      },
      "source": [
        "### outra forma de fazer a derivada"
      ]
    },
    {
      "cell_type": "code",
      "metadata": {
        "id": "A0UcnsP4rauX",
        "outputId": "7965981e-ab27-4a35-ff64-0a63ef0b8477",
        "colab": {
          "base_uri": "https://localhost:8080/",
          "height": 38
        }
      },
      "source": [
        "Derivative(x**2 + sin(x))"
      ],
      "execution_count": 16,
      "outputs": [
        {
          "output_type": "execute_result",
          "data": {
            "image/png": "[encoded data removed]",
            "text/latex": "$$\\frac{d}{d x}\\left(x^{2} + \\sin{\\left (x \\right )}\\right)$$",
            "text/plain": [
              "d ⎛ 2         ⎞\n",
              "──⎝x  + sin(x)⎠\n",
              "dx             "
            ]
          },
          "metadata": {
            "tags": []
          },
          "execution_count": 16
        }
      ]
    },
    {
      "cell_type": "code",
      "metadata": {
        "id": "8_vWwyHorF9q",
        "outputId": "33525dae-547b-4483-894f-ce3317770a8c",
        "colab": {
          "base_uri": "https://localhost:8080/",
          "height": 37
        }
      },
      "source": [
        "Derivative(x**2 + sin(x)).doit() #usando a funcao doit"
      ],
      "execution_count": 15,
      "outputs": [
        {
          "output_type": "execute_result",
          "data": {
            "image/png": "[encoded data removed]",
            "text/latex": "$$2 x + \\cos{\\left (x \\right )}$$",
            "text/plain": [
              "2⋅x + cos(x)"
            ]
          },
          "metadata": {
            "tags": []
          },
          "execution_count": 15
        }
      ]
    },
    {
      "cell_type": "markdown",
      "metadata": {
        "id": "FGWhjTQOtJTi"
      },
      "source": [
        "## fazendo integral\n"
      ]
    },
    {
      "cell_type": "code",
      "metadata": {
        "id": "Zqz4BV7wtMM1",
        "outputId": "3a6b582b-2eb5-494d-a4bb-55f015b943ea",
        "colab": {
          "base_uri": "https://localhost:8080/",
          "height": 38
        }
      },
      "source": [
        "Integral(x**2 + sin(x)) # visualizando a montagem da integral"
      ],
      "execution_count": 17,
      "outputs": [
        {
          "output_type": "execute_result",
          "data": {
            "image/png": "[encoded data removed]",
            "text/latex": "$$\\int \\left(x^{2} + \\sin{\\left (x \\right )}\\right)\\, dx$$",
            "text/plain": [
              "⌠                 \n",
              "⎮ ⎛ 2         ⎞   \n",
              "⎮ ⎝x  + sin(x)⎠ dx\n",
              "⌡                 "
            ]
          },
          "metadata": {
            "tags": []
          },
          "execution_count": 17
        }
      ]
    },
    {
      "cell_type": "code",
      "metadata": {
        "id": "TbOR8k6KtgFM",
        "outputId": "aa0dac84-4e83-461c-bf83-bb73e7be9b81",
        "colab": {
          "base_uri": "https://localhost:8080/",
          "height": 41
        }
      },
      "source": [
        "Integral(x**2 + sin(x)).doit() #resolução com a funcao doit"
      ],
      "execution_count": 19,
      "outputs": [
        {
          "output_type": "execute_result",
          "data": {
            "image/png": "[encoded data removed]",
            "text/latex": "$$\\frac{x^{3}}{3} - \\cos{\\left (x \\right )}$$",
            "text/plain": [
              " 3         \n",
              "x          \n",
              "── - cos(x)\n",
              "3          "
            ]
          },
          "metadata": {
            "tags": []
          },
          "execution_count": 19
        }
      ]
    },
    {
      "cell_type": "code",
      "metadata": {
        "id": "qtjCge1ntUAA",
        "outputId": "29d1325c-d13e-4007-c50e-4f39e3153952",
        "colab": {
          "base_uri": "https://localhost:8080/",
          "height": 41
        }
      },
      "source": [
        "integrate(x**2 + sin(x)) #resolução com a funcao integrate"
      ],
      "execution_count": 18,
      "outputs": [
        {
          "output_type": "execute_result",
          "data": {
            "image/png": "[encoded data removed]",
            "text/latex": "$$\\frac{x^{3}}{3} - \\cos{\\left (x \\right )}$$",
            "text/plain": [
              " 3         \n",
              "x          \n",
              "── - cos(x)\n",
              "3          "
            ]
          },
          "metadata": {
            "tags": []
          },
          "execution_count": 18
        }
      ]
    },
    {
      "cell_type": "markdown",
      "metadata": {
        "id": "m-cBpGwEvBth"
      },
      "source": [
        "###calculo com integrais definidas\n"
      ]
    },
    {
      "cell_type": "code",
      "metadata": {
        "id": "i3n-GNCKvE1m",
        "outputId": "de87f75f-584d-4bdd-baec-07def3bf0159",
        "colab": {
          "base_uri": "https://localhost:8080/",
          "height": 38
        }
      },
      "source": [
        "Integral(x**2 + 2 + sin(x)*exp(x)) #esta integral é indefinida"
      ],
      "execution_count": 20,
      "outputs": [
        {
          "output_type": "execute_result",
          "data": {
            "image/png": "[encoded data removed]",
            "text/latex": "$$\\int \\left(x^{2} + e^{x} \\sin{\\left (x \\right )} + 2\\right)\\, dx$$",
            "text/plain": [
              "⌠                        \n",
              "⎮ ⎛ 2    x           ⎞   \n",
              "⎮ ⎝x  + ℯ ⋅sin(x) + 2⎠ dx\n",
              "⌡                        "
            ]
          },
          "metadata": {
            "tags": []
          },
          "execution_count": 20
        }
      ]
    },
    {
      "cell_type": "code",
      "metadata": {
        "id": "eRpspqzY0jTD",
        "outputId": "46ef309c-f06d-42b1-dd77-ee1cb0bef304",
        "colab": {
          "base_uri": "https://localhost:8080/",
          "height": 41
        }
      },
      "source": [
        "Integral(x**2 + 2 + sin(x)*exp(x)).doit() #resultado da integração"
      ],
      "execution_count": 21,
      "outputs": [
        {
          "output_type": "execute_result",
          "data": {
            "image/png": "[encoded data removed]",
            "text/latex": "$$\\frac{x^{3}}{3} + 2 x + \\frac{e^{x}}{2} \\sin{\\left (x \\right )} - \\frac{e^{x}}{2} \\cos{\\left (x \\right )}$$",
            "text/plain": [
              " 3          x           x       \n",
              "x          ℯ ⋅sin(x)   ℯ ⋅cos(x)\n",
              "── + 2⋅x + ───────── - ─────────\n",
              "3              2           2    "
            ]
          },
          "metadata": {
            "tags": []
          },
          "execution_count": 21
        }
      ]
    },
    {
      "cell_type": "code",
      "metadata": {
        "id": "IVktrjqV011i",
        "outputId": "26c4890d-2a2f-4f70-8def-1997dfd0e227",
        "colab": {
          "base_uri": "https://localhost:8080/",
          "height": 40
        }
      },
      "source": [
        "Integral(x**2 + 2 + sin(x)*exp(x),(x,0,2)) #definindo entre 0 e 2 onde x é a variavél de integração"
      ],
      "execution_count": 22,
      "outputs": [
        {
          "output_type": "execute_result",
          "data": {
            "image/png": "[encoded data removed]",
            "text/latex": "$$\\int_{0}^{2} \\left(x^{2} + e^{x} \\sin{\\left (x \\right )} + 2\\right)\\, dx$$",
            "text/plain": [
              "2                        \n",
              "⌠                        \n",
              "⎮ ⎛ 2    x           ⎞   \n",
              "⎮ ⎝x  + ℯ ⋅sin(x) + 2⎠ dx\n",
              "⌡                        \n",
              "0                        "
            ]
          },
          "metadata": {
            "tags": []
          },
          "execution_count": 22
        }
      ]
    },
    {
      "cell_type": "code",
      "metadata": {
        "id": "sfKNOAFK1qAo",
        "outputId": "c6c36bc0-18c0-4a02-adec-be74c28650f2",
        "colab": {
          "base_uri": "https://localhost:8080/",
          "height": 41
        }
      },
      "source": [
        "Integral(x**2 + 2 + sin(x)*exp(x),(x,0,2)).doit() # resolvendo a integral acima"
      ],
      "execution_count": 23,
      "outputs": [
        {
          "output_type": "execute_result",
          "data": {
            "image/png": "[encoded data removed]",
            "text/latex": "$$- \\frac{e^{2}}{2} \\cos{\\left (2 \\right )} + \\frac{e^{2}}{2} \\sin{\\left (2 \\right )} + \\frac{43}{6}$$",
            "text/plain": [
              "   2           2            \n",
              "  ℯ ⋅cos(2)   ℯ ⋅sin(2)   43\n",
              "- ───────── + ───────── + ──\n",
              "      2           2       6 "
            ]
          },
          "metadata": {
            "tags": []
          },
          "execution_count": 23
        }
      ]
    },
    {
      "cell_type": "code",
      "metadata": {
        "id": "9GTty3fr13s_",
        "outputId": "6ebec3aa-a138-4bb7-fb1e-a26796a20c54",
        "colab": {
          "base_uri": "https://localhost:8080/",
          "height": 36
        }
      },
      "source": [
        "Integral(x**2 + 2 + sin(x)*exp(x),(x,0,2)).doit().evalf(5) # evalf para retornar o valor numerico"
      ],
      "execution_count": 28,
      "outputs": [
        {
          "output_type": "execute_result",
          "data": {
            "image/png": "[encoded data removed]",
            "text/latex": "$$12.064$$",
            "text/plain": [
              "12.064"
            ]
          },
          "metadata": {
            "tags": []
          },
          "execution_count": 28
        }
      ]
    },
    {
      "cell_type": "markdown",
      "metadata": {
        "id": "MPXCwJ_k3HoJ"
      },
      "source": [
        "##definindo e resolvendo equações\n"
      ]
    },
    {
      "cell_type": "code",
      "metadata": {
        "id": "N1yxIfHo3LFe"
      },
      "source": [
        "y= Function('y') #ainda nao entendi o por que usou a delacração y como funcao"
      ],
      "execution_count": 29,
      "outputs": []
    },
    {
      "cell_type": "code",
      "metadata": {
        "id": "DqzTOhff3tkK",
        "outputId": "0b72a6f7-d26e-44da-d363-288dda449333",
        "colab": {
          "base_uri": "https://localhost:8080/",
          "height": 38
        }
      },
      "source": [
        "Eq(y(x).diff(x)+y(x),3)  # Eq cria equaçoes"
      ],
      "execution_count": 33,
      "outputs": [
        {
          "output_type": "execute_result",
          "data": {
            "image/png": "[encoded data removed]",
            "text/latex": "$$y{\\left (x \\right )} + \\frac{d}{d x} y{\\left (x \\right )} = 3$$",
            "text/plain": [
              "       d           \n",
              "y(x) + ──(y(x)) = 3\n",
              "       dx          "
            ]
          },
          "metadata": {
            "tags": []
          },
          "execution_count": 33
        }
      ]
    },
    {
      "cell_type": "code",
      "metadata": {
        "id": "zGSfaAeA5hiA",
        "outputId": "1ae655e8-2988-4b6e-9bd9-c5016c890293",
        "colab": {
          "base_uri": "https://localhost:8080/",
          "height": 37
        }
      },
      "source": [
        "eq1 = Eq(x**2-2*x+1,6)\n",
        "eq1"
      ],
      "execution_count": 36,
      "outputs": [
        {
          "output_type": "execute_result",
          "data": {
            "image/png": "[encoded data removed]",
            "text/latex": "$$x^{2} - 2 x + 1 = 6$$",
            "text/plain": [
              " 2              \n",
              "x  - 2⋅x + 1 = 6"
            ]
          },
          "metadata": {
            "tags": []
          },
          "execution_count": 36
        }
      ]
    },
    {
      "cell_type": "code",
      "metadata": {
        "id": "XHcpn72G6D__",
        "outputId": "6f96d023-ee54-4577-dac3-a53846f4fd33",
        "colab": {
          "base_uri": "https://localhost:8080/",
          "height": 38
        }
      },
      "source": [
        "solve(eq1,x)"
      ],
      "execution_count": 37,
      "outputs": [
        {
          "output_type": "execute_result",
          "data": {
            "image/png": "[encoded data removed]",
            "text/latex": "$$\\left [ 1 + \\sqrt{6}, \\quad - \\sqrt{6} + 1\\right ]$$",
            "text/plain": [
              "[1 + √6, -√6 + 1]"
            ]
          },
          "metadata": {
            "tags": []
          },
          "execution_count": 37
        }
      ]
    },
    {
      "cell_type": "code",
      "metadata": {
        "id": "cMzvazck6Tmk",
        "outputId": "d9b08058-1de2-41b7-d5fe-7cdf66deffed",
        "colab": {
          "base_uri": "https://localhost:8080/",
          "height": 38
        }
      },
      "source": [
        "EDO = Eq(y(x).diff(x)+y(x),3)\n",
        "EDO"
      ],
      "execution_count": 40,
      "outputs": [
        {
          "output_type": "execute_result",
          "data": {
            "image/png": "[encoded data removed]",
            "text/latex": "$$y{\\left (x \\right )} + \\frac{d}{d x} y{\\left (x \\right )} = 3$$",
            "text/plain": [
              "       d           \n",
              "y(x) + ──(y(x)) = 3\n",
              "       dx          "
            ]
          },
          "metadata": {
            "tags": []
          },
          "execution_count": 40
        }
      ]
    },
    {
      "cell_type": "code",
      "metadata": {
        "id": "Tcs3KOJT6koC",
        "outputId": "e1f77d40-e4c8-414d-a845-e5b447ecb092",
        "colab": {
          "base_uri": "https://localhost:8080/",
          "height": 37
        }
      },
      "source": [
        "dsolve(EDO,y(x))"
      ],
      "execution_count": 41,
      "outputs": [
        {
          "output_type": "execute_result",
          "data": {
            "image/png": "[encoded data removed]",
            "text/latex": "$$y{\\left (x \\right )} = C_{1} e^{- x} + 3$$",
            "text/plain": [
              "           -x    \n",
              "y(x) = C₁⋅ℯ   + 3"
            ]
          },
          "metadata": {
            "tags": []
          },
          "execution_count": 41
        }
      ]
    },
    {
      "cell_type": "markdown",
      "metadata": {
        "id": "phl577SB7EI9"
      },
      "source": [
        "#esboçando graficos e funções\n"
      ]
    },
    {
      "cell_type": "code",
      "metadata": {
        "id": "sKn_k65X7Hc8"
      },
      "source": [
        "from sympy.plotting import *"
      ],
      "execution_count": 47,
      "outputs": []
    },
    {
      "cell_type": "code",
      "metadata": {
        "id": "MVE98VgJ7qmQ",
        "outputId": "83ce2da0-e889-4db2-c240-079395cabdcc",
        "colab": {
          "base_uri": "https://localhost:8080/",
          "height": 418
        }
      },
      "source": [
        "plot(x**2, sin(x), (x,-2,2), title = \"TESTE\", xlabel = \"eixo x\", ylabel = \"eixo y\", legend = true)\n",
        " # esboçando o grafico de x**2 limitado para x -2 e 2\n",
        " # nao consegui expandir o eixo y negativamente para mostrar o resto do grafico do seno"
      ],
      "execution_count": 71,
      "outputs": [
        {
          "output_type": "stream",
          "text": [
            "/usr/local/lib/python3.6/dist-packages/sympy/plotting/plot.py:890: MatplotlibDeprecationWarning: \n",
            "The set_smart_bounds function was deprecated in Matplotlib 3.2 and will be removed two minor releases later.\n",
            "  self.ax.spines['left'].set_smart_bounds(True)\n",
            "/usr/local/lib/python3.6/dist-packages/sympy/plotting/plot.py:891: MatplotlibDeprecationWarning: \n",
            "The set_smart_bounds function was deprecated in Matplotlib 3.2 and will be removed two minor releases later.\n",
            "  self.ax.spines['bottom'].set_smart_bounds(False)\n"
          ],
          "name": "stderr"
        },
        {
          "output_type": "display_data",
          "data": {
            "image/png": "[encoded data removed]",
            "text/plain": [
              "<Figure size 432x288 with 1 Axes>"
            ]
          },
          "metadata": {
            "tags": [],
            "needs_background": "light"
          }
        },
        {
          "output_type": "execute_result",
          "data": {
            "text/plain": [
              "<sympy.plotting.plot.Plot at 0x7f07d57cfeb8>"
            ]
          },
          "metadata": {
            "tags": []
          },
          "execution_count": 71
        }
      ]
    }
  ]
}