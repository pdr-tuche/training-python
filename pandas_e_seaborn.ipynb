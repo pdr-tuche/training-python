{
  "nbformat": 4,
  "nbformat_minor": 0,
  "metadata": {
    "colab": {
      "name": "pandas e seaborn.ipynb",
      "provenance": [],
      "mount_file_id": "1e9wCrki8g4UciordespttElKPw9JNkFb",
      "authorship_tag": "ABX9TyPTL8Lg4qJVCqllquZDiHo+",
      "include_colab_link": true
    },
    "kernelspec": {
      "name": "python3",
      "display_name": "Python 3"
    }
  },
  "cells": [
    {
      "cell_type": "markdown",
      "metadata": {
        "id": "view-in-github",
        "colab_type": "text"
      },
      "source": [
        "<a href=\"https://colab.research.google.com/github/pdr-tuche/training-python/blob/main/pandas_e_seaborn.ipynb\" target=\"_parent\"><img src=\"https://colab.research.google.com/assets/colab-badge.svg\" alt=\"Open In Colab\"/></a>"
      ]
    },
    {
      "cell_type": "markdown",
      "metadata": {
        "id": "Su5yhZgNmQmv"
      },
      "source": [
        "# usando conteudo do pandas para os dados, seaborn para gerar os graficos e matplotlib para as animações dos graficos\n",
        "dia de pesquisa: 02/ 12 /2020\n",
        "\n",
        "\n",
        "\n",
        "---\n",
        "\n",
        "conteúdo aprendido em:\n",
        "https://www.youtube.com/watch?v=INsCQC0Cmjs\n"
      ]
    },
    {
      "cell_type": "code",
      "metadata": {
        "id": "g6UpljZ7mD4U"
      },
      "source": [
        "import pandas as pd\n",
        "import seaborn as sns\n",
        "import numpy as np\n",
        "import matplotlib\n",
        "import matplotlib.pyplot as plt\n",
        "import matplotlib.animation as animation"
      ],
      "execution_count": 1,
      "outputs": []
    },
    {
      "cell_type": "code",
      "metadata": {
        "colab": {
          "base_uri": "https://localhost:8080/",
          "height": 356
        },
        "id": "GlrezZ_hnMqm",
        "outputId": "d366890e-f482-4e26-ce9d-7f58d3b1f6d4"
      },
      "source": [
        "data = pd.read_csv(\"/content/drive/MyDrive/covid_jp.csv\",encoding= \"UTF-8\", sep=';')\n",
        "data"
      ],
      "execution_count": 2,
      "outputs": [
        {
          "output_type": "execute_result",
          "data": {
            "text/html": [
              "<div>\n",
              "<style scoped>\n",
              "    .dataframe tbody tr th:only-of-type {\n",
              "        vertical-align: middle;\n",
              "    }\n",
              "\n",
              "    .dataframe tbody tr th {\n",
              "        vertical-align: top;\n",
              "    }\n",
              "\n",
              "    .dataframe thead th {\n",
              "        text-align: right;\n",
              "    }\n",
              "</style>\n",
              "<table border=\"1\" class=\"dataframe\">\n",
              "  <thead>\n",
              "    <tr style=\"text-align: right;\">\n",
              "      <th></th>\n",
              "      <th>MUNICÍPIO DE RESIDÊNCIA</th>\n",
              "      <th>NO DE CASOS</th>\n",
              "      <th>NO DE ÓBITOS</th>\n",
              "      <th>RECUPERADOS</th>\n",
              "      <th>EM ABERTO</th>\n",
              "    </tr>\n",
              "  </thead>\n",
              "  <tbody>\n",
              "    <tr>\n",
              "      <th>0</th>\n",
              "      <td>João Pessoa</td>\n",
              "      <td>34660</td>\n",
              "      <td>1032</td>\n",
              "      <td>25062.0</td>\n",
              "      <td>8566.0</td>\n",
              "    </tr>\n",
              "    <tr>\n",
              "      <th>1</th>\n",
              "      <td>João Pessoa</td>\n",
              "      <td>32651</td>\n",
              "      <td>991</td>\n",
              "      <td>24045.0</td>\n",
              "      <td>7615.0</td>\n",
              "    </tr>\n",
              "    <tr>\n",
              "      <th>2</th>\n",
              "      <td>João Pessoa</td>\n",
              "      <td>31421</td>\n",
              "      <td>951</td>\n",
              "      <td>23157.0</td>\n",
              "      <td>7313.0</td>\n",
              "    </tr>\n",
              "    <tr>\n",
              "      <th>3</th>\n",
              "      <td>João Pessoa</td>\n",
              "      <td>29959</td>\n",
              "      <td>906</td>\n",
              "      <td>21894.0</td>\n",
              "      <td>7159.0</td>\n",
              "    </tr>\n",
              "    <tr>\n",
              "      <th>4</th>\n",
              "      <td>João Pessoa</td>\n",
              "      <td>29000</td>\n",
              "      <td>868</td>\n",
              "      <td>19575.0</td>\n",
              "      <td>8557.0</td>\n",
              "    </tr>\n",
              "    <tr>\n",
              "      <th>5</th>\n",
              "      <td>João Pessoa</td>\n",
              "      <td>27542</td>\n",
              "      <td>846</td>\n",
              "      <td>18156.0</td>\n",
              "      <td>8530.0</td>\n",
              "    </tr>\n",
              "    <tr>\n",
              "      <th>6</th>\n",
              "      <td>João Pessoa</td>\n",
              "      <td>26351</td>\n",
              "      <td>809</td>\n",
              "      <td>NaN</td>\n",
              "      <td>NaN</td>\n",
              "    </tr>\n",
              "    <tr>\n",
              "      <th>7</th>\n",
              "      <td>João Pessoa</td>\n",
              "      <td>25819</td>\n",
              "      <td>800</td>\n",
              "      <td>NaN</td>\n",
              "      <td>NaN</td>\n",
              "    </tr>\n",
              "    <tr>\n",
              "      <th>8</th>\n",
              "      <td>João Pessoa</td>\n",
              "      <td>25589</td>\n",
              "      <td>783</td>\n",
              "      <td>NaN</td>\n",
              "      <td>NaN</td>\n",
              "    </tr>\n",
              "    <tr>\n",
              "      <th>9</th>\n",
              "      <td>João Pessoa</td>\n",
              "      <td>25053</td>\n",
              "      <td>774</td>\n",
              "      <td>NaN</td>\n",
              "      <td>NaN</td>\n",
              "    </tr>\n",
              "  </tbody>\n",
              "</table>\n",
              "</div>"
            ],
            "text/plain": [
              "  MUNICÍPIO DE RESIDÊNCIA  NO DE CASOS  NO DE ÓBITOS  RECUPERADOS  EM ABERTO\n",
              "0             João Pessoa        34660          1032      25062.0     8566.0\n",
              "1             João Pessoa        32651           991      24045.0     7615.0\n",
              "2             João Pessoa        31421           951      23157.0     7313.0\n",
              "3             João Pessoa        29959           906      21894.0     7159.0\n",
              "4             João Pessoa        29000           868      19575.0     8557.0\n",
              "5             João Pessoa        27542           846      18156.0     8530.0\n",
              "6             João Pessoa        26351           809          NaN        NaN\n",
              "7             João Pessoa        25819           800          NaN        NaN\n",
              "8             João Pessoa        25589           783          NaN        NaN\n",
              "9             João Pessoa        25053           774          NaN        NaN"
            ]
          },
          "metadata": {
            "tags": []
          },
          "execution_count": 2
        }
      ]
    },
    {
      "cell_type": "markdown",
      "metadata": {
        "id": "DITujfOE71Oc"
      },
      "source": [
        "os quatro primeiros sao boletins de agosto, e o resto de dois em dois"
      ]
    },
    {
      "cell_type": "code",
      "metadata": {
        "colab": {
          "base_uri": "https://localhost:8080/",
          "height": 336
        },
        "id": "4ZgzmXFKAh-k",
        "outputId": "72b560ce-40df-462a-887e-9020dcbd7fa5"
      },
      "source": [
        "sns.barplot(data=data, x='NO DE CASOS',y='NO DE ÓBITOS')\n",
        "plt.xticks(rotation=90)"
      ],
      "execution_count": 29,
      "outputs": [
        {
          "output_type": "execute_result",
          "data": {
            "text/plain": [
              "(array([0, 1, 2, 3, 4, 5, 6, 7, 8, 9]),\n",
              " <a list of 10 Text major ticklabel objects>)"
            ]
          },
          "metadata": {
            "tags": []
          },
          "execution_count": 29
        },
        {
          "output_type": "display_data",
          "data": {
            "image/png": "[encoded data removed]",
            "text/plain": [
              "<Figure size 432x288 with 1 Axes>"
            ]
          },
          "metadata": {
            "tags": [],
            "needs_background": "light"
          }
        }
      ]
    },
    {
      "cell_type": "markdown",
      "metadata": {
        "id": "D8AmA403BLiQ"
      },
      "source": [
        "#### podemos concluir que, no momento, o numero de óbitos cresce conforme o numero de casos"
      ]
    }
  ]
}