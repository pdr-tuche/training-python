{
  "nbformat": 4,
  "nbformat_minor": 0,
  "metadata": {
    "colab": {
      "name": "seleção_olimpica.ipynb",
      "provenance": [],
      "mount_file_id": "1S31_88VwEXutgqRgEFZ7MxSPmyvMHDVE",
      "authorship_tag": "ABX9TyOywzRy1GKVWn2eDujsjt7+",
      "include_colab_link": true
    },
    "kernelspec": {
      "name": "python3",
      "display_name": "Python 3"
    }
  },
  "cells": [
    {
      "cell_type": "markdown",
      "metadata": {
        "id": "view-in-github",
        "colab_type": "text"
      },
      "source": [
        "<a href=\"https://colab.research.google.com/github/pdr-tuche/training-python/blob/main/sele%C3%A7%C3%A3o_olimpica.ipynb\" target=\"_parent\"><img src=\"https://colab.research.google.com/assets/colab-badge.svg\" alt=\"Open In Colab\"/></a>"
      ]
    },
    {
      "cell_type": "markdown",
      "metadata": {
        "id": "inWwiA_Ih0dl"
      },
      "source": [
        "#acompanhando o desenvolvimento de um esporte:\n",
        "a ideia é montar um histograma da quantidade de medalhas ganhas pelo brasil em olimpiadas até 2016\n",
        "\n",
        "\n",
        "---\n",
        "\n",
        "dia de pesquisa: 20/ 11/ 2020"
      ]
    },
    {
      "cell_type": "code",
      "metadata": {
        "id": "7FLj2zIlh_47"
      },
      "source": [
        "import pandas as pd\n",
        "import matplotlib.pyplot as plt\n",
        "import numpy as np\n",
        "\n",
        "data = pd.read_csv(\"/content/drive/MyDrive/athlete_events.csv\",encoding= \"ISO-8859-1\", sep=',')\n",
        "data.drop(\"Games\",axis=1,inplace=True)\n",
        "data.drop(\"Season\",axis=1,inplace=True)\n",
        "data.drop(\"NOC\",axis=1,inplace=True)"
      ],
      "execution_count": 148,
      "outputs": []
    },
    {
      "cell_type": "code",
      "metadata": {
        "colab": {
          "base_uri": "https://localhost:8080/"
        },
        "id": "J0QJEm1ciHer",
        "outputId": "a3d61fcd-e60d-4afe-dd8b-f33064863971"
      },
      "source": [
        "fut = data.loc[data['Event'] == \"Football Men's Football\"]\n",
        "fute = fut.loc[fut['Team']=='Brazil']\n",
        "fute['Medal'].fillna('Nenhuma',inplace =True)\n",
        "futeb = fute.loc[fute['Medal']!='Nenhuma']\n",
        "#aplicando uma 'gambiarra, consegui descobrir quais medalhas e em quais anos o brasil conquistou medalha\n",
        "# eu fui comparando com == para descobrir a medalha e depois troquei o sinal para != para eliminar aql resultado e assim sucessivamente\n",
        "medalhistas_1984 = futeb.loc[futeb['Year']!=1984]#84 silver\n",
        "medalhistas_1988 = medalhistas_1984.loc[medalhistas_1984['Year']!=1988]#88 silver\n",
        "medalhistas_1996 = medalhistas_1988.loc[medalhistas_1988['Year']!=1996]#96 bronze\n",
        "medalhistas_2008 = medalhistas_1996.loc[medalhistas_1996['Year']!=2008]#08 bronze\n",
        "medalhistas_2012 = medalhistas_2008.loc[medalhistas_2008['Year']!=2012]#12 silver\n",
        "medalhistas_2016 = medalhistas_2012 #16 Gold"
      ],
      "execution_count": 149,
      "outputs": [
        {
          "output_type": "stream",
          "text": [
            "/usr/local/lib/python3.6/dist-packages/pandas/core/series.py:4535: SettingWithCopyWarning: \n",
            "A value is trying to be set on a copy of a slice from a DataFrame\n",
            "\n",
            "See the caveats in the documentation: https://pandas.pydata.org/pandas-docs/stable/user_guide/indexing.html#returning-a-view-versus-a-copy\n",
            "  downcast=downcast,\n"
          ],
          "name": "stderr"
        }
      ]
    },
    {
      "cell_type": "code",
      "metadata": {
        "colab": {
          "base_uri": "https://localhost:8080/",
          "height": 282
        },
        "id": "NNuDkerrrNVK",
        "outputId": "1b49bd94-1cb0-4aad-d89f-0b1c64325dd9"
      },
      "source": [
        "ano=[1984,1988,1996,2008,2012,2016]\n",
        "medalhas=[2,2,3,3,2,1]\n",
        "plt.scatter(ano,medalhas)\n",
        "plt.plot(ano,medalhas)"
      ],
      "execution_count": 150,
      "outputs": [
        {
          "output_type": "execute_result",
          "data": {
            "text/plain": [
              "[<matplotlib.lines.Line2D at 0x7f9778f01518>]"
            ]
          },
          "metadata": {
            "tags": []
          },
          "execution_count": 150
        },
        {
          "output_type": "display_data",
          "data": {
            "image/png": "[encoded data removed]",
            "text/plain": [
              "<Figure size 432x288 with 1 Axes>"
            ]
          },
          "metadata": {
            "tags": [],
            "needs_background": "light"
          }
        }
      ]
    },
    {
      "cell_type": "markdown",
      "metadata": {
        "id": "hwX_wBRT28R-"
      },
      "source": [
        "grafico da evolução da seleção brasileira. eixo x a evolução temporal e no eixo y as medalhas, onde 1 equivale a ouro, 2 prata e 3 bronze"
      ]
    },
    {
      "cell_type": "markdown",
      "metadata": {
        "id": "iVUkOQMxhetV"
      },
      "source": [
        "#\"Brincando\" com dados\n",
        "\n",
        "\n",
        "\n",
        "\n"
      ]
    },
    {
      "cell_type": "code",
      "metadata": {
        "id": "YFDvIBqrlboi"
      },
      "source": [
        "import pandas as pd\n",
        "import matplotlib.pyplot as plt\n",
        "import numpy as np\n",
        "\n",
        "data = pd.read_csv(\"/content/drive/MyDrive/athlete_events.csv\",encoding= \"ISO-8859-1\", sep=',')\n",
        "data.drop(\"Games\",axis=1,inplace=True)\n",
        "data.drop(\"Season\",axis=1,inplace=True)"
      ],
      "execution_count": 2,
      "outputs": []
    },
    {
      "cell_type": "code",
      "metadata": {
        "colab": {
          "base_uri": "https://localhost:8080/",
          "height": 165
        },
        "id": "eWqLcmxflfKj",
        "outputId": "fba517f2-a7be-4bec-8d7a-8d65e6cf5aa4"
      },
      "source": [
        "brasileiros = data.loc[data['Team']=='Brazil'] #dataframe de brasileiros\n",
        "rio2016 = brasileiros.loc[brasileiros['Year'] == 2016] #dataframe de brasileiros nas olimpiadas de 2016\n",
        "rio2016['Medal'].fillna('Nenhuma',inplace =True) #modificando valor NaN por Nenhuma medalha\n",
        "medalhistas = rio2016.loc[rio2016['Medal']!='Nenhuma']#dataframe de medalhistas brasileiros rio2016\n",
        "medalhistas['Medal'].value_counts() #quantidade de medalhistas brasileiros(jogadores de esportes coletivos sao contados individualmente)\n",
        "#o brasil ficou com 7ouros 6pratas e 6bronzes na olimpiada de 2016\n",
        "medalhistas.head(1)"
      ],
      "execution_count": 35,
      "outputs": [
        {
          "output_type": "stream",
          "text": [
            "/usr/local/lib/python3.6/dist-packages/pandas/core/series.py:4535: SettingWithCopyWarning: \n",
            "A value is trying to be set on a copy of a slice from a DataFrame\n",
            "\n",
            "See the caveats in the documentation: https://pandas.pydata.org/pandas-docs/stable/user_guide/indexing.html#returning-a-view-versus-a-copy\n",
            "  downcast=downcast,\n"
          ],
          "name": "stderr"
        },
        {
          "output_type": "execute_result",
          "data": {
            "text/html": [
              "<div>\n",
              "<style scoped>\n",
              "    .dataframe tbody tr th:only-of-type {\n",
              "        vertical-align: middle;\n",
              "    }\n",
              "\n",
              "    .dataframe tbody tr th {\n",
              "        vertical-align: top;\n",
              "    }\n",
              "\n",
              "    .dataframe thead th {\n",
              "        text-align: right;\n",
              "    }\n",
              "</style>\n",
              "<table border=\"1\" class=\"dataframe\">\n",
              "  <thead>\n",
              "    <tr style=\"text-align: right;\">\n",
              "      <th></th>\n",
              "      <th>ID</th>\n",
              "      <th>Name</th>\n",
              "      <th>Sex</th>\n",
              "      <th>Age</th>\n",
              "      <th>Height</th>\n",
              "      <th>Weight</th>\n",
              "      <th>Team</th>\n",
              "      <th>NOC</th>\n",
              "      <th>Year</th>\n",
              "      <th>City</th>\n",
              "      <th>Sport</th>\n",
              "      <th>Event</th>\n",
              "      <th>Medal</th>\n",
              "    </tr>\n",
              "  </thead>\n",
              "  <tbody>\n",
              "    <tr>\n",
              "      <th>9260</th>\n",
              "      <td>5093</td>\n",
              "      <td>William Peixoto Arjona</td>\n",
              "      <td>M</td>\n",
              "      <td>37.0</td>\n",
              "      <td>186.0</td>\n",
              "      <td>78.0</td>\n",
              "      <td>Brazil</td>\n",
              "      <td>BRA</td>\n",
              "      <td>2016</td>\n",
              "      <td>Rio de Janeiro</td>\n",
              "      <td>Volleyball</td>\n",
              "      <td>Volleyball Men's Volleyball</td>\n",
              "      <td>Gold</td>\n",
              "    </tr>\n",
              "  </tbody>\n",
              "</table>\n",
              "</div>"
            ],
            "text/plain": [
              "        ID                    Name  ...                        Event  Medal\n",
              "9260  5093  William Peixoto Arjona  ...  Volleyball Men's Volleyball   Gold\n",
              "\n",
              "[1 rows x 13 columns]"
            ]
          },
          "metadata": {
            "tags": []
          },
          "execution_count": 35
        }
      ]
    },
    {
      "cell_type": "code",
      "metadata": {
        "colab": {
          "base_uri": "https://localhost:8080/",
          "height": 357
        },
        "id": "H88Z8tz_dNOW",
        "outputId": "3acfa089-052a-45b0-e0ff-cb1f55cc6090"
      },
      "source": [
        "#pensei em retirar os jogadores de esportes coletivos e depois adicionar mais duas medalhas ao medalhas_brasil\n",
        "temp = medalhistas.loc[medalhistas['Event']!=\"Football Men's Football\"]\n",
        "medalhas_brasil = temp.loc[temp['Event']!=\"Volleyball Men's Volleyball\"]\n",
        "# depois de retirar todos os jogadores de futebol e volei, irei adicionar mais duas medalhas individuais aos dados\n",
        "#medalhas_brasil.append(\"9998,futebol,NaN,NaN,NaN,NaN,Brazil,BRA,2016,Rio de Janeiro,Futebol,Futebol,Gold\") ->nao é assim que se adiciona kkkk"
      ],
      "execution_count": 36,
      "outputs": [
        {
          "output_type": "error",
          "ename": "TypeError",
          "evalue": "ignored",
          "traceback": [
            "\u001b[0;31m---------------------------------------------------------------------------\u001b[0m",
            "\u001b[0;31mTypeError\u001b[0m                                 Traceback (most recent call last)",
            "\u001b[0;32m<ipython-input-36-b1974c97cb8b>\u001b[0m in \u001b[0;36m<module>\u001b[0;34m()\u001b[0m\n\u001b[1;32m      2\u001b[0m \u001b[0mmedalhas_brasil\u001b[0m \u001b[0;34m=\u001b[0m \u001b[0mtemp\u001b[0m\u001b[0;34m.\u001b[0m\u001b[0mloc\u001b[0m\u001b[0;34m[\u001b[0m\u001b[0mtemp\u001b[0m\u001b[0;34m[\u001b[0m\u001b[0;34m'Event'\u001b[0m\u001b[0;34m]\u001b[0m\u001b[0;34m!=\u001b[0m\u001b[0;34m\"Volleyball Men's Volleyball\"\u001b[0m\u001b[0;34m]\u001b[0m\u001b[0;34m\u001b[0m\u001b[0;34m\u001b[0m\u001b[0m\n\u001b[1;32m      3\u001b[0m \u001b[0;31m# depois de retirar todos os jogadores de futebol e volei, irei adicionar mais duas medalhas individuais aos dados\u001b[0m\u001b[0;34m\u001b[0m\u001b[0;34m\u001b[0m\u001b[0;34m\u001b[0m\u001b[0m\n\u001b[0;32m----> 4\u001b[0;31m \u001b[0mmedalhas_brasil\u001b[0m\u001b[0;34m.\u001b[0m\u001b[0mappend\u001b[0m\u001b[0;34m(\u001b[0m\u001b[0;34m\"9998,futebol,NaN,NaN,NaN,NaN,Brazil,BRA,2016,Rio de Janeiro,Futebol,Futebol,Gold\"\u001b[0m\u001b[0;34m)\u001b[0m\u001b[0;34m\u001b[0m\u001b[0;34m\u001b[0m\u001b[0m\n\u001b[0m",
            "\u001b[0;32m/usr/local/lib/python3.6/dist-packages/pandas/core/frame.py\u001b[0m in \u001b[0;36mappend\u001b[0;34m(self, other, ignore_index, verify_integrity, sort)\u001b[0m\n\u001b[1;32m   7749\u001b[0m             \u001b[0mignore_index\u001b[0m\u001b[0;34m=\u001b[0m\u001b[0mignore_index\u001b[0m\u001b[0;34m,\u001b[0m\u001b[0;34m\u001b[0m\u001b[0;34m\u001b[0m\u001b[0m\n\u001b[1;32m   7750\u001b[0m             \u001b[0mverify_integrity\u001b[0m\u001b[0;34m=\u001b[0m\u001b[0mverify_integrity\u001b[0m\u001b[0;34m,\u001b[0m\u001b[0;34m\u001b[0m\u001b[0;34m\u001b[0m\u001b[0m\n\u001b[0;32m-> 7751\u001b[0;31m             \u001b[0msort\u001b[0m\u001b[0;34m=\u001b[0m\u001b[0msort\u001b[0m\u001b[0;34m,\u001b[0m\u001b[0;34m\u001b[0m\u001b[0;34m\u001b[0m\u001b[0m\n\u001b[0m\u001b[1;32m   7752\u001b[0m         )\n\u001b[1;32m   7753\u001b[0m \u001b[0;34m\u001b[0m\u001b[0m\n",
            "\u001b[0;32m/usr/local/lib/python3.6/dist-packages/pandas/core/reshape/concat.py\u001b[0m in \u001b[0;36mconcat\u001b[0;34m(objs, axis, join, ignore_index, keys, levels, names, verify_integrity, sort, copy)\u001b[0m\n\u001b[1;32m    282\u001b[0m         \u001b[0mverify_integrity\u001b[0m\u001b[0;34m=\u001b[0m\u001b[0mverify_integrity\u001b[0m\u001b[0;34m,\u001b[0m\u001b[0;34m\u001b[0m\u001b[0;34m\u001b[0m\u001b[0m\n\u001b[1;32m    283\u001b[0m         \u001b[0mcopy\u001b[0m\u001b[0;34m=\u001b[0m\u001b[0mcopy\u001b[0m\u001b[0;34m,\u001b[0m\u001b[0;34m\u001b[0m\u001b[0;34m\u001b[0m\u001b[0m\n\u001b[0;32m--> 284\u001b[0;31m         \u001b[0msort\u001b[0m\u001b[0;34m=\u001b[0m\u001b[0msort\u001b[0m\u001b[0;34m,\u001b[0m\u001b[0;34m\u001b[0m\u001b[0;34m\u001b[0m\u001b[0m\n\u001b[0m\u001b[1;32m    285\u001b[0m     )\n\u001b[1;32m    286\u001b[0m \u001b[0;34m\u001b[0m\u001b[0m\n",
            "\u001b[0;32m/usr/local/lib/python3.6/dist-packages/pandas/core/reshape/concat.py\u001b[0m in \u001b[0;36m__init__\u001b[0;34m(self, objs, axis, join, keys, levels, names, ignore_index, verify_integrity, copy, sort)\u001b[0m\n\u001b[1;32m    357\u001b[0m                     \u001b[0;34m\"only Series and DataFrame objs are valid\"\u001b[0m\u001b[0;34m\u001b[0m\u001b[0;34m\u001b[0m\u001b[0m\n\u001b[1;32m    358\u001b[0m                 )\n\u001b[0;32m--> 359\u001b[0;31m                 \u001b[0;32mraise\u001b[0m \u001b[0mTypeError\u001b[0m\u001b[0;34m(\u001b[0m\u001b[0mmsg\u001b[0m\u001b[0;34m)\u001b[0m\u001b[0;34m\u001b[0m\u001b[0;34m\u001b[0m\u001b[0m\n\u001b[0m\u001b[1;32m    360\u001b[0m \u001b[0;34m\u001b[0m\u001b[0m\n\u001b[1;32m    361\u001b[0m             \u001b[0;31m# consolidate\u001b[0m\u001b[0;34m\u001b[0m\u001b[0;34m\u001b[0m\u001b[0;34m\u001b[0m\u001b[0m\n",
            "\u001b[0;31mTypeError\u001b[0m: cannot concatenate object of type '<class 'str'>'; only Series and DataFrame objs are valid"
          ]
        }
      ]
    }
  ]
}