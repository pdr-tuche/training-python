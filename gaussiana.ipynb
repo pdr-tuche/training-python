{
  "nbformat": 4,
  "nbformat_minor": 0,
  "metadata": {
    "colab": {
      "name": "gaussiana.ipynb",
      "provenance": [],
      "authorship_tag": "ABX9TyOeSUZRkQ5FBYruig8dD9hl",
      "include_colab_link": true
    },
    "kernelspec": {
      "name": "python3",
      "display_name": "Python 3"
    }
  },
  "cells": [
    {
      "cell_type": "markdown",
      "metadata": {
        "id": "view-in-github",
        "colab_type": "text"
      },
      "source": [
        "<a href=\"https://colab.research.google.com/github/pdr-tuche/training-python/blob/main/gaussiana.ipynb\" target=\"_parent\"><img src=\"https://colab.research.google.com/assets/colab-badge.svg\" alt=\"Open In Colab\"/></a>"
      ]
    },
    {
      "cell_type": "markdown",
      "metadata": {
        "id": "St_umOqEbW2x"
      },
      "source": [
        "# tentativa de criar uma gaussiana com exemplo de lançamentos de um dado\n",
        "EM DESENVOLVIMENTO"
      ]
    },
    {
      "cell_type": "code",
      "metadata": {
        "id": "IhSn7yIPbNww"
      },
      "source": [
        "from sympy import *\n",
        "import numpy as np\n",
        "import matplotlib.pyplot as plt"
      ],
      "execution_count": 67,
      "outputs": []
    },
    {
      "cell_type": "code",
      "metadata": {
        "id": "h_Xhy-COtPw9",
        "outputId": "73470009-ffef-4c1d-c421-b453592b7f1d",
        "colab": {
          "base_uri": "https://localhost:8080/",
          "height": 88
        }
      },
      "source": [
        "# gerando uma lista de 1000 numeros aleatorios das faces dos dados\n",
        "faces= []\n",
        "for i in range(1000):\n",
        "  X = np.random.random_integers(6)\n",
        "  faces.append(X)\n",
        "  \n",
        "#fora do loop o ultimo sempre sera 0 pra facilitar a soma na proxima celula\n",
        "faces.append(0)\n",
        "print(faces)"
      ],
      "execution_count": 72,
      "outputs": [
        {
          "output_type": "stream",
          "text": [
            "[3, 6, 2, 3, 6, 5, 3, 4, 6, 3, 5, 2, 3, 4, 1, 4, 4, 2, 3, 2, 1, 4, 6, 4, 3, 6, 6, 5, 4, 5, 5, 1, 4, 2, 1, 5, 5, 5, 2, 5, 1, 4, 1, 5, 5, 3, 4, 6, 6, 4, 3, 5, 2, 3, 6, 1, 6, 3, 2, 2, 1, 4, 6, 6, 4, 1, 1, 6, 5, 6, 1, 1, 1, 5, 5, 5, 4, 1, 1, 1, 1, 6, 2, 4, 3, 6, 4, 1, 4, 1, 2, 2, 4, 6, 1, 6, 3, 2, 4, 1, 6, 4, 5, 3, 2, 6, 4, 6, 3, 6, 5, 4, 4, 3, 6, 5, 3, 2, 6, 3, 2, 6, 1, 6, 1, 6, 5, 5, 1, 6, 3, 6, 6, 6, 3, 6, 1, 2, 6, 5, 2, 2, 1, 3, 6, 3, 2, 2, 5, 4, 3, 6, 6, 4, 3, 6, 5, 1, 5, 5, 4, 1, 1, 1, 5, 3, 5, 6, 5, 2, 6, 6, 6, 2, 3, 3, 5, 6, 4, 4, 4, 2, 3, 4, 1, 4, 2, 6, 1, 4, 4, 3, 4, 6, 4, 3, 2, 1, 3, 4, 2, 1, 2, 3, 3, 6, 5, 6, 4, 2, 6, 3, 1, 6, 5, 1, 2, 4, 6, 2, 2, 2, 1, 1, 2, 6, 4, 2, 5, 5, 4, 5, 5, 4, 1, 1, 4, 5, 5, 4, 2, 1, 4, 2, 6, 4, 5, 1, 3, 3, 1, 3, 4, 3, 6, 4, 3, 2, 6, 1, 5, 3, 2, 2, 5, 2, 6, 5, 2, 2, 5, 4, 5, 2, 3, 1, 6, 1, 2, 5, 5, 2, 6, 5, 1, 6, 3, 1, 4, 4, 3, 2, 3, 5, 6, 4, 2, 6, 5, 4, 4, 6, 1, 3, 1, 6, 6, 5, 5, 6, 1, 6, 2, 1, 5, 1, 3, 5, 6, 5, 6, 2, 3, 3, 5, 4, 3, 5, 1, 3, 4, 1, 3, 2, 1, 1, 2, 1, 3, 2, 5, 4, 4, 2, 5, 6, 5, 5, 1, 5, 1, 2, 5, 6, 3, 4, 6, 1, 4, 4, 6, 4, 5, 3, 3, 2, 1, 2, 6, 5, 1, 5, 5, 2, 6, 2, 5, 1, 6, 5, 2, 2, 2, 2, 4, 2, 2, 5, 3, 4, 4, 3, 3, 3, 4, 4, 2, 5, 1, 5, 5, 5, 1, 6, 3, 2, 4, 1, 6, 6, 2, 2, 2, 4, 4, 3, 1, 4, 1, 2, 5, 4, 3, 5, 6, 4, 4, 3, 1, 5, 4, 4, 6, 3, 1, 5, 4, 3, 5, 4, 6, 1, 4, 5, 4, 3, 6, 4, 3, 5, 1, 3, 2, 1, 1, 5, 2, 5, 5, 4, 1, 6, 6, 2, 4, 2, 1, 2, 2, 4, 6, 1, 5, 1, 2, 2, 5, 1, 1, 5, 1, 6, 5, 2, 4, 6, 4, 3, 4, 5, 5, 5, 2, 1, 3, 5, 2, 2, 2, 1, 2, 6, 4, 2, 1, 5, 4, 3, 6, 1, 3, 5, 5, 6, 5, 4, 3, 3, 1, 4, 1, 5, 5, 5, 3, 3, 5, 3, 2, 4, 5, 3, 1, 2, 5, 2, 4, 5, 4, 6, 3, 6, 2, 1, 2, 2, 3, 3, 5, 1, 3, 4, 6, 6, 2, 5, 1, 2, 2, 4, 5, 5, 5, 1, 5, 1, 2, 6, 1, 4, 1, 5, 1, 4, 6, 1, 6, 3, 2, 2, 3, 6, 6, 4, 3, 1, 1, 6, 5, 5, 2, 2, 4, 5, 1, 2, 3, 5, 2, 6, 4, 1, 1, 5, 1, 2, 6, 6, 6, 4, 4, 5, 1, 6, 2, 4, 2, 5, 1, 1, 5, 6, 5, 1, 4, 1, 6, 2, 4, 3, 6, 4, 1, 6, 1, 3, 1, 2, 5, 4, 4, 6, 3, 1, 4, 5, 5, 1, 6, 1, 2, 1, 3, 3, 2, 4, 3, 3, 2, 1, 2, 6, 2, 1, 6, 3, 1, 5, 2, 4, 2, 2, 6, 6, 1, 4, 3, 3, 3, 6, 5, 4, 6, 1, 1, 3, 2, 1, 4, 5, 5, 5, 1, 6, 6, 3, 4, 4, 5, 1, 3, 1, 3, 1, 6, 5, 4, 6, 4, 2, 3, 1, 1, 4, 6, 4, 3, 6, 1, 4, 2, 4, 6, 5, 2, 3, 5, 3, 3, 1, 1, 4, 2, 2, 4, 6, 4, 6, 3, 1, 4, 5, 6, 3, 5, 2, 2, 6, 6, 2, 1, 5, 1, 2, 6, 3, 3, 4, 2, 3, 4, 3, 5, 1, 6, 1, 2, 2, 2, 5, 4, 2, 3, 6, 5, 3, 2, 5, 3, 5, 3, 2, 2, 5, 3, 4, 3, 6, 6, 2, 2, 3, 6, 5, 4, 1, 5, 6, 4, 6, 2, 6, 3, 5, 3, 2, 6, 6, 3, 3, 5, 3, 1, 1, 2, 3, 2, 4, 2, 3, 1, 3, 3, 3, 2, 5, 3, 2, 2, 3, 1, 2, 1, 2, 2, 4, 6, 5, 6, 3, 1, 3, 1, 1, 4, 6, 6, 2, 4, 5, 5, 5, 3, 4, 2, 5, 3, 2, 2, 4, 5, 6, 6, 5, 2, 3, 2, 1, 5, 3, 4, 6, 5, 6, 6, 4, 3, 3, 2, 3, 3, 5, 4, 5, 5, 6, 6, 1, 2, 5, 1, 5, 1, 6, 1, 5, 1, 4, 1, 2, 4, 3, 3, 6, 6, 3, 3, 3, 1, 5, 3, 1, 3, 5, 2, 3, 1, 3, 3, 5, 2, 5, 6, 1, 6, 5, 5, 2, 4, 4, 6, 5, 5, 6, 1, 3, 3, 5, 4, 2, 5, 1, 1, 5, 2, 1, 1, 2, 4, 2, 3, 3, 5, 4, 5, 6, 2, 2, 5, 6, 5, 3, 3, 2, 2, 4, 1, 5, 2, 2, 3, 1, 2, 6, 3, 4, 6, 2, 6, 4, 5, 5, 6, 1, 1, 3, 6, 6, 2, 1, 1, 6, 2, 5, 1, 1, 6, 3, 5, 6, 0]\n"
          ],
          "name": "stdout"
        },
        {
          "output_type": "stream",
          "text": [
            "/usr/local/lib/python3.6/dist-packages/ipykernel_launcher.py:4: DeprecationWarning: This function is deprecated. Please call randint(1, 6 + 1) instead\n",
            "  after removing the cwd from sys.path.\n"
          ],
          "name": "stderr"
        }
      ]
    },
    {
      "cell_type": "code",
      "metadata": {
        "id": "CL_MTHf1iU_B",
        "outputId": "2c062c63-4b06-4552-bdd1-42c72e0ca54a",
        "colab": {
          "base_uri": "https://localhost:8080/",
          "height": 34
        }
      },
      "source": [
        "#fezendo media dos numeros\n",
        "total =0;\n",
        "for elem in faces:\n",
        "  if elem != 0:\n",
        "    total +=elem\n",
        "\n",
        "media = total/1000\n",
        "print(media)"
      ],
      "execution_count": 69,
      "outputs": [
        {
          "output_type": "stream",
          "text": [
            "3.441\n"
          ],
          "name": "stdout"
        }
      ]
    },
    {
      "cell_type": "code",
      "metadata": {
        "id": "iqCKj1c3koqR",
        "outputId": "3ab6e9bb-d9dc-42de-acdd-dcdbaca170e3",
        "colab": {
          "base_uri": "https://localhost:8080/",
          "height": 34
        }
      },
      "source": [
        "# calculando o desvio padrao\n",
        "#https://www.todamateria.com.br/desvio-padrao/\n",
        "total2=0\n",
        "for elem in faces:\n",
        "  if elem != 0:\n",
        "    total2 += (elem-media)**2\n",
        "\n",
        "sigma = np.sqrt(total2/3)\n",
        "sigma"
      ],
      "execution_count": 70,
      "outputs": [
        {
          "output_type": "execute_result",
          "data": {
            "text/plain": [
              "31.083323503126174"
            ]
          },
          "metadata": {
            "tags": []
          },
          "execution_count": 70
        }
      ]
    },
    {
      "cell_type": "code",
      "metadata": {
        "id": "OaOS7TtQ0wMN"
      },
      "source": [
        "# contando quantas o numero de vezes de cada face\n",
        "numero_de_faces=[]\n",
        "count1 = 0\n",
        "count2 = 0\n",
        "count3 = 0\n",
        "count4 = 0\n",
        "count5 = 0\n",
        "count6 = 0\n",
        "for elem in faces:\n",
        "  if elem == 1:\n",
        "    count1 +=1\n",
        "  elif elem == 2:\n",
        "    count2 +=1\n",
        "  elif elem == 3:\n",
        "    count3 +=1\n",
        "  elif elem == 4:\n",
        "    count4 +=1\n",
        "  elif elem == 5:\n",
        "    count5 +=1\n",
        "  else:\n",
        "    count6 +=1\n",
        "\n",
        "numero_de_faces.append(count1)\n",
        "numero_de_faces.append(count2)\n",
        "numero_de_faces.append(count3)\n",
        "numero_de_faces.append(count4)\n",
        "numero_de_faces.append(count5)\n",
        "numero_de_faces.append(count6)"
      ],
      "execution_count": 73,
      "outputs": []
    },
    {
      "cell_type": "code",
      "metadata": {
        "id": "Yd9A2Hl9ZzrY",
        "outputId": "220c5cb3-d2b7-4b87-83e8-a0ec7988f5bc",
        "colab": {
          "base_uri": "https://localhost:8080/",
          "height": 318
        }
      },
      "source": [
        "#criando novos arrays com as faces possiveis e a quantidade de vezes que elas apareces\n",
        "numeros =np.array([1,2,3,4,5,6])\n",
        "numero_de_facesINT = np.array(numero_de_faces)\n",
        "print(numeros)\n",
        "print(numero_de_facesINT)\n",
        "plt.plot(numeros,numero_de_facesINT)\n",
        "\n",
        "#nao representa uma distribuição gaussiana, caso apresentar uma distribuição gaussiana, foi extremamente ao acaso"
      ],
      "execution_count": 74,
      "outputs": [
        {
          "output_type": "stream",
          "text": [
            "[1 2 3 4 5 6]\n",
            "[170 172 161 151 179 168]\n"
          ],
          "name": "stdout"
        },
        {
          "output_type": "execute_result",
          "data": {
            "text/plain": [
              "[<matplotlib.lines.Line2D at 0x7f20844f86d8>]"
            ]
          },
          "metadata": {
            "tags": []
          },
          "execution_count": 74
        },
        {
          "output_type": "display_data",
          "data": {
            "image/png": "[encoded data removed]",
            "text/plain": [
              "<Figure size 432x288 with 1 Axes>"
            ]
          },
          "metadata": {
            "tags": [],
            "needs_background": "light"
          }
        }
      ]
    },
    {
      "cell_type": "markdown",
      "metadata": {
        "id": "xIMzMOqskcU1"
      },
      "source": [
        "# segunda tentativa de criar uma gaussiana\n",
        "bem sucedida"
      ]
    },
    {
      "cell_type": "code",
      "metadata": {
        "id": "-yNdafTvkhqc"
      },
      "source": [
        "import numpy as np\n",
        "import matplotlib.pyplot as plt\n",
        "import seaborn as sns"
      ],
      "execution_count": 21,
      "outputs": []
    },
    {
      "cell_type": "code",
      "metadata": {
        "id": "SYkxEBJbknfk"
      },
      "source": [
        "#criando valores aleatorios com media 0 e desvio padrao de 1\n",
        "#utilizei a funcao random.normal para gerar valores aleatorios que formam uma distribuição normal\n",
        "mi , sigma = 0,1\n",
        "x = np.random.normal(mi,sigma,1000)"
      ],
      "execution_count": 77,
      "outputs": []
    },
    {
      "cell_type": "code",
      "metadata": {
        "id": "VI2Dd3FUlZ1l",
        "outputId": "ebbd4b21-a59e-4fbd-f9c6-d1ff22c4eb3f",
        "colab": {
          "base_uri": "https://localhost:8080/",
          "height": 282
        }
      },
      "source": [
        "# utilizando a FDP (função Densidade Probabilidade) normal padrão\n",
        "plt.plot(x, 1/(sigma * np.sqrt(2*np.pi)) * np.e*np.exp(-(x**2/2)))"
      ],
      "execution_count": 78,
      "outputs": [
        {
          "output_type": "execute_result",
          "data": {
            "text/plain": [
              "[<matplotlib.lines.Line2D at 0x7f2084430898>]"
            ]
          },
          "metadata": {
            "tags": []
          },
          "execution_count": 78
        },
        {
          "output_type": "display_data",
          "data": {
            "image/png": "[encoded data removed]",
            "text/plain": [
              "<Figure size 432x288 with 1 Axes>"
            ]
          },
          "metadata": {
            "tags": [],
            "needs_background": "light"
          }
        }
      ]
    },
    {
      "cell_type": "markdown",
      "metadata": {
        "id": "0JslZKRippbe"
      },
      "source": [
        "### outra forma de plotar o grafico usando a biblioteca sns\n",
        "forma mais elegante"
      ]
    },
    {
      "cell_type": "code",
      "metadata": {
        "id": "GvxTBY5CpvOc",
        "outputId": "541da644-07fa-495a-c839-7c1347943aad",
        "colab": {
          "base_uri": "https://localhost:8080/",
          "height": 336
        }
      },
      "source": [
        "sns.distplot(x, hist=True)"
      ],
      "execution_count": 41,
      "outputs": [
        {
          "output_type": "stream",
          "text": [
            "/usr/local/lib/python3.6/dist-packages/seaborn/distributions.py:2551: FutureWarning: `distplot` is a deprecated function and will be removed in a future version. Please adapt your code to use either `displot` (a figure-level function with similar flexibility) or `histplot` (an axes-level function for histograms).\n",
            "  warnings.warn(msg, FutureWarning)\n"
          ],
          "name": "stderr"
        },
        {
          "output_type": "execute_result",
          "data": {
            "text/plain": [
              "<matplotlib.axes._subplots.AxesSubplot at 0x7f20847cc588>"
            ]
          },
          "metadata": {
            "tags": []
          },
          "execution_count": 41
        },
        {
          "output_type": "display_data",
          "data": {
            "image/png": "[encoded data removed]",
            "text/plain": [
              "<Figure size 432x288 with 1 Axes>"
            ]
          },
          "metadata": {
            "tags": [],
            "needs_background": "light"
          }
        }
      ]
    },
    {
      "cell_type": "markdown",
      "metadata": {
        "id": "xoE69BPA-08m"
      },
      "source": [
        "#gaussiana\n",
        "código encontrado na internet.\n",
        "ainda nao compreendo sua complexidade de comandos, possui extrema elegancia ao plotar o grafico, e é exatamente no código da plotagem minha dificuldade de leitura do código."
      ]
    },
    {
      "cell_type": "code",
      "metadata": {
        "id": "JlkbwGXi-5gE"
      },
      "source": [
        "import matplotlib.pyplot as plt"
      ],
      "execution_count": null,
      "outputs": []
    },
    {
      "cell_type": "code",
      "metadata": {
        "id": "Xf6trfTx_Cc7"
      },
      "source": [
        "mu, sigma = 0, 0.1 # mean and standard deviation\n",
        "s = np.random.normal(mu, sigma, 1000)"
      ],
      "execution_count": null,
      "outputs": []
    },
    {
      "cell_type": "code",
      "metadata": {
        "id": "3821Fe5qd_dA",
        "outputId": "e6e65013-7b8e-49c2-9644-ee07a0123067",
        "colab": {
          "base_uri": "https://localhost:8080/",
          "height": 34
        }
      },
      "source": [
        "#Verify the mean and the variance:\n",
        "abs(mu - np.mean(s)) < 0.01"
      ],
      "execution_count": null,
      "outputs": [
        {
          "output_type": "execute_result",
          "data": {
            "text/plain": [
              "True"
            ]
          },
          "metadata": {
            "tags": []
          },
          "execution_count": 97
        }
      ]
    },
    {
      "cell_type": "code",
      "metadata": {
        "id": "Rm6Fqb6feJz5",
        "outputId": "8bef7678-eb17-4b42-cb59-826b21e39769",
        "colab": {
          "base_uri": "https://localhost:8080/",
          "height": 34
        }
      },
      "source": [
        "abs(sigma - np.std(s, ddof=1)) < 0.01"
      ],
      "execution_count": null,
      "outputs": [
        {
          "output_type": "execute_result",
          "data": {
            "text/plain": [
              "True"
            ]
          },
          "metadata": {
            "tags": []
          },
          "execution_count": 98
        }
      ]
    },
    {
      "cell_type": "code",
      "metadata": {
        "id": "UGbkkze0eOiu",
        "outputId": "0dee050f-a0f7-462e-c8ea-503dbb9ef4b2",
        "colab": {
          "base_uri": "https://localhost:8080/",
          "height": 265
        }
      },
      "source": [
        "count, bins, ignored = plt.hist(s, 30, density=True)\n",
        "plt.plot(bins, 1/(sigma * np.sqrt(2 * np.pi)) *\n",
        "               np.exp( - (bins - mu)**2 / (2 * sigma**2) ),\n",
        "         linewidth=2, color='r')\n",
        "plt.show()"
      ],
      "execution_count": null,
      "outputs": [
        {
          "output_type": "display_data",
          "data": {
            "image/png": "[encoded data removed]",
            "text/plain": [
              "<Figure size 432x288 with 1 Axes>"
            ]
          },
          "metadata": {
            "tags": [],
            "needs_background": "light"
          }
        }
      ]
    }
  ]
}